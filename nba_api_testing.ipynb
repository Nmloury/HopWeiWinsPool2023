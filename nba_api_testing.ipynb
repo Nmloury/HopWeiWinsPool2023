{
 "cells": [
  {
   "cell_type": "code",
   "execution_count": 34,
   "metadata": {
    "collapsed": true
   },
   "outputs": [],
   "source": [
    "from nba_api.stats import endpoints\n",
    "import plotly.express as px\n",
    "import pandas as pd"
   ]
  },
  {
   "cell_type": "code",
   "execution_count": 42,
   "outputs": [
    {
     "name": "stderr",
     "output_type": "stream",
     "text": [
      "/var/folders/84/sb4dr76n06x6zw0p7llk4gpc0000gn/T/ipykernel_81939/1520873204.py:43: SettingWithCopyWarning:\n",
      "\n",
      "\n",
      "A value is trying to be set on a copy of a slice from a DataFrame.\n",
      "Try using .loc[row_indexer,col_indexer] = value instead\n",
      "\n",
      "See the caveats in the documentation: https://pandas.pydata.org/pandas-docs/stable/user_guide/indexing.html#returning-a-view-versus-a-copy\n",
      "\n",
      "/var/folders/84/sb4dr76n06x6zw0p7llk4gpc0000gn/T/ipykernel_81939/1520873204.py:115: SettingWithCopyWarning:\n",
      "\n",
      "\n",
      "A value is trying to be set on a copy of a slice from a DataFrame.\n",
      "Try using .loc[row_indexer,col_indexer] = value instead\n",
      "\n",
      "See the caveats in the documentation: https://pandas.pydata.org/pandas-docs/stable/user_guide/indexing.html#returning-a-view-versus-a-copy\n",
      "\n",
      "/var/folders/84/sb4dr76n06x6zw0p7llk4gpc0000gn/T/ipykernel_81939/1520873204.py:118: SettingWithCopyWarning:\n",
      "\n",
      "\n",
      "A value is trying to be set on a copy of a slice from a DataFrame.\n",
      "Try using .loc[row_indexer,col_indexer] = value instead\n",
      "\n",
      "See the caveats in the documentation: https://pandas.pydata.org/pandas-docs/stable/user_guide/indexing.html#returning-a-view-versus-a-copy\n",
      "\n"
     ]
    }
   ],
   "source": [
    "# Fetch NBA standings data\n",
    "standings_full = endpoints.leaguestandings.LeagueStandings().get_data_frames()[0]\n",
    "\n",
    "# Limit to relevant columns\n",
    "col = ['TeamCity', 'TeamName', 'WINS', 'LOSSES']\n",
    "standings = standings_full[col]\n",
    "\n",
    "# Create Team Owner Dict for wins pool\n",
    "owner_map = {\n",
    "    'Celtics': 'Eric',\n",
    "    'Nuggets': 'Divya',\n",
    "    'Mavericks': 'Divya',\n",
    "    '76ers': 'Zach',\n",
    "    'Warriors': 'Kent',\n",
    "    'Bucks': 'Nehemiah',\n",
    "    'Hawks': 'Eric',\n",
    "    'Timberwolves': 'Nehemiah',\n",
    "    'Pelicans': 'Divya',\n",
    "    'Pacers': 'Richard',\n",
    "    'Magic': 'Cuente',\n",
    "    'Thunder': 'Nehemiah',\n",
    "    'Cavaliers': 'Cuente',\n",
    "    'Clippers': 'Zach',\n",
    "    'Rockets': 'N/A',\n",
    "    'Nets': 'Divya',\n",
    "    'Knicks': 'Kent',\n",
    "    'Spurs': 'Kent',\n",
    "    'Lakers': 'Cuente',\n",
    "    'Heat': 'Richard',\n",
    "    'Suns': 'Richard',\n",
    "    'Raptors': 'Nehemiah',\n",
    "    'Bulls': 'Kent',\n",
    "    'Trail Blazers': 'Eric',\n",
    "    'Kings': 'Eric',\n",
    "    'Hornets': 'Richard',\n",
    "    'Jazz': 'Zach',\n",
    "    'Pistons': 'Cuente',\n",
    "    'Grizzlies': 'Zach',\n",
    "    'Wizards': 'N/A'\n",
    "}\n",
    "\n",
    "# Assign Wins Pool Owners\n",
    "standings['Owner'] = standings['TeamName'].map(owner_map)\n",
    "\n",
    "# Create over/under Dict for wins pool\n",
    "ou_map = {\n",
    "    'Celtics': 54.5,\n",
    "    'Nuggets': 52.5,\n",
    "    'Mavericks': 45.5,\n",
    "    '76ers': 48.5,\n",
    "    'Warriors': 48.5,\n",
    "    'Bucks': 54.5,\n",
    "    'Hawks': 42.5,\n",
    "    'Timberwolves': 44.5,\n",
    "    'Pelicans': 44.5,\n",
    "    'Pacers': 38.5,\n",
    "    'Magic': 37.5,\n",
    "    'Thunder': 44.5,\n",
    "    'Cavaliers': 50.5,\n",
    "    'Clippers': 46.5,\n",
    "    'Rockets': 31.5,\n",
    "    'Nets': 37.5,\n",
    "    'Knicks': 45.5,\n",
    "    'Spurs': 28.5,\n",
    "    'Lakers': 47.5,\n",
    "    'Heat': 45.5,\n",
    "    'Suns': 51.5,\n",
    "    'Raptors': 36.5,\n",
    "    'Bulls': 37.5,\n",
    "    'Trail Blazers': 28.5,\n",
    "    'Kings': 44.5,\n",
    "    'Hornets': 31.5,\n",
    "    'Jazz': 35.5,\n",
    "    'Pistons': 28.5,\n",
    "    'Grizzlies': 45.5,\n",
    "    'Wizards': 24.5\n",
    "}\n",
    "\n",
    "# Create color Dict for wins pool\n",
    "color_map = {\n",
    "    'Celtics': '#007A33',\n",
    "    'Nuggets': '#0E2240',\n",
    "    'Mavericks': '#00538C',\n",
    "    '76ers': '#006BB6',\n",
    "    'Warriors': '#1D428A',\n",
    "    'Bucks': '#00471B',\n",
    "    'Hawks': '#E03A3E',\n",
    "    'Timberwolves': '#0C2340',\n",
    "    'Pelicans': '#0C2340',\n",
    "    'Pacers': '#002D62',\n",
    "    'Magic': '#0077C0',\n",
    "    'Thunder': '#007AC1',\n",
    "    'Cavaliers': '#860038',\n",
    "    'Clippers': '#C8102E',\n",
    "    'Rockets': '#CE1141',\n",
    "    'Nets': '#000000',\n",
    "    'Knicks': '#F58426',\n",
    "    'Spurs': '#C4CED4',\n",
    "    'Lakers': '#552583',\n",
    "    'Heat': '#98002E',\n",
    "    'Suns': '#E56020',\n",
    "    'Raptors': '#CE1141',\n",
    "    'Bulls': '#CE1141',\n",
    "    'Trail Blazers': '#E03A3E',\n",
    "    'Kings': '#5A2D81',\n",
    "    'Hornets': '#00788C',\n",
    "    'Jazz': '#002B5C',\n",
    "    'Pistons': '#C8102E',\n",
    "    'Grizzlies': '#5D76A9',\n",
    "    'Wizards': '#002B5C'\n",
    "}\n",
    "\n",
    "\n",
    "# Assign Wins Pool Owners\n",
    "standings['O/U'] = standings['TeamName'].map(ou_map)\n",
    "\n",
    "# Calculate Points Per Team\n",
    "standings['Points'] = standings.apply(lambda row: row['WINS'] + 2 * max(row['WINS'] - row['O/U'], 0), axis=1)\n",
    "\n",
    "# Drop Teams With No Owner\n",
    "standings = standings[standings['Owner'] != 'N/A']\n",
    "\n",
    "# Calculate Total Points Per Owner\n",
    "total_points = standings.groupby(['Owner'])['Points'].sum().reset_index()\n",
    "total_points.rename({'Points': 'TotalPoints'}, axis=1, inplace=True)\n",
    "standings = standings.merge(total_points, on='Owner')\n",
    "\n",
    "# Sort Standings\n",
    "standings = standings.sort_values(by=['TotalPoints', 'Owner'], ascending=False)"
   ],
   "metadata": {
    "collapsed": false
   }
  },
  {
   "cell_type": "code",
   "execution_count": 43,
   "outputs": [
    {
     "data": {
      "text/plain": "      TeamCity   TeamName  WINS  LOSSES     Owner   O/U  Points  TotalPoints\n0       Denver    Nuggets     8       1     Divya  52.5       8           22\n1       Dallas  Mavericks     6       2     Divya  45.5       6           22\n2     Brooklyn       Nets     4       4     Divya  37.5       4           22\n3  New Orleans   Pelicans     4       4     Divya  44.5       4           22\n8    Milwaukee      Bucks     5       2  Nehemiah  54.5       5           19",
      "text/html": "<div>\n<style scoped>\n    .dataframe tbody tr th:only-of-type {\n        vertical-align: middle;\n    }\n\n    .dataframe tbody tr th {\n        vertical-align: top;\n    }\n\n    .dataframe thead th {\n        text-align: right;\n    }\n</style>\n<table border=\"1\" class=\"dataframe\">\n  <thead>\n    <tr style=\"text-align: right;\">\n      <th></th>\n      <th>TeamCity</th>\n      <th>TeamName</th>\n      <th>WINS</th>\n      <th>LOSSES</th>\n      <th>Owner</th>\n      <th>O/U</th>\n      <th>Points</th>\n      <th>TotalPoints</th>\n    </tr>\n  </thead>\n  <tbody>\n    <tr>\n      <th>0</th>\n      <td>Denver</td>\n      <td>Nuggets</td>\n      <td>8</td>\n      <td>1</td>\n      <td>Divya</td>\n      <td>52.5</td>\n      <td>8</td>\n      <td>22</td>\n    </tr>\n    <tr>\n      <th>1</th>\n      <td>Dallas</td>\n      <td>Mavericks</td>\n      <td>6</td>\n      <td>2</td>\n      <td>Divya</td>\n      <td>45.5</td>\n      <td>6</td>\n      <td>22</td>\n    </tr>\n    <tr>\n      <th>2</th>\n      <td>Brooklyn</td>\n      <td>Nets</td>\n      <td>4</td>\n      <td>4</td>\n      <td>Divya</td>\n      <td>37.5</td>\n      <td>4</td>\n      <td>22</td>\n    </tr>\n    <tr>\n      <th>3</th>\n      <td>New Orleans</td>\n      <td>Pelicans</td>\n      <td>4</td>\n      <td>4</td>\n      <td>Divya</td>\n      <td>44.5</td>\n      <td>4</td>\n      <td>22</td>\n    </tr>\n    <tr>\n      <th>8</th>\n      <td>Milwaukee</td>\n      <td>Bucks</td>\n      <td>5</td>\n      <td>2</td>\n      <td>Nehemiah</td>\n      <td>54.5</td>\n      <td>5</td>\n      <td>19</td>\n    </tr>\n  </tbody>\n</table>\n</div>"
     },
     "execution_count": 43,
     "metadata": {},
     "output_type": "execute_result"
    }
   ],
   "source": [
    "# View Standings df\n",
    "standings.head()"
   ],
   "metadata": {
    "collapsed": false
   }
  },
  {
   "cell_type": "code",
   "execution_count": 44,
   "outputs": [
    {
     "data": {
      "application/vnd.plotly.v1+json": {
       "data": [
        {
         "alignmentgroup": "True",
         "hovertemplate": "TeamName=%{text}<br>Owner=%{x}<br>Points=%{y}<extra></extra>",
         "legendgroup": "Nuggets",
         "marker": {
          "color": "#0E2240",
          "pattern": {
           "shape": ""
          }
         },
         "name": "Nuggets",
         "offsetgroup": "Nuggets",
         "orientation": "v",
         "showlegend": false,
         "text": [
          "Nuggets"
         ],
         "textposition": "inside",
         "x": [
          "Divya"
         ],
         "xaxis": "x",
         "y": [
          8
         ],
         "yaxis": "y",
         "type": "bar",
         "texttemplate": "%{text}"
        },
        {
         "alignmentgroup": "True",
         "hovertemplate": "TeamName=%{text}<br>Owner=%{x}<br>Points=%{y}<extra></extra>",
         "legendgroup": "Mavericks",
         "marker": {
          "color": "#00538C",
          "pattern": {
           "shape": ""
          }
         },
         "name": "Mavericks",
         "offsetgroup": "Mavericks",
         "orientation": "v",
         "showlegend": false,
         "text": [
          "Mavericks"
         ],
         "textposition": "inside",
         "x": [
          "Divya"
         ],
         "xaxis": "x",
         "y": [
          6
         ],
         "yaxis": "y",
         "type": "bar",
         "texttemplate": "%{text}"
        },
        {
         "alignmentgroup": "True",
         "hovertemplate": "TeamName=%{text}<br>Owner=%{x}<br>Points=%{y}<extra></extra>",
         "legendgroup": "Nets",
         "marker": {
          "color": "#000000",
          "pattern": {
           "shape": ""
          }
         },
         "name": "Nets",
         "offsetgroup": "Nets",
         "orientation": "v",
         "showlegend": false,
         "text": [
          "Nets"
         ],
         "textposition": "inside",
         "x": [
          "Divya"
         ],
         "xaxis": "x",
         "y": [
          4
         ],
         "yaxis": "y",
         "type": "bar",
         "texttemplate": "%{text}"
        },
        {
         "alignmentgroup": "True",
         "hovertemplate": "TeamName=%{text}<br>Owner=%{x}<br>Points=%{y}<extra></extra>",
         "legendgroup": "Pelicans",
         "marker": {
          "color": "#0C2340",
          "pattern": {
           "shape": ""
          }
         },
         "name": "Pelicans",
         "offsetgroup": "Pelicans",
         "orientation": "v",
         "showlegend": false,
         "text": [
          "Pelicans"
         ],
         "textposition": "inside",
         "x": [
          "Divya"
         ],
         "xaxis": "x",
         "y": [
          4
         ],
         "yaxis": "y",
         "type": "bar",
         "texttemplate": "%{text}"
        },
        {
         "alignmentgroup": "True",
         "hovertemplate": "TeamName=%{text}<br>Owner=%{x}<br>Points=%{y}<extra></extra>",
         "legendgroup": "Bucks",
         "marker": {
          "color": "#00471B",
          "pattern": {
           "shape": ""
          }
         },
         "name": "Bucks",
         "offsetgroup": "Bucks",
         "orientation": "v",
         "showlegend": false,
         "text": [
          "Bucks"
         ],
         "textposition": "inside",
         "x": [
          "Nehemiah"
         ],
         "xaxis": "x",
         "y": [
          5
         ],
         "yaxis": "y",
         "type": "bar",
         "texttemplate": "%{text}"
        },
        {
         "alignmentgroup": "True",
         "hovertemplate": "TeamName=%{text}<br>Owner=%{x}<br>Points=%{y}<extra></extra>",
         "legendgroup": "Timberwolves",
         "marker": {
          "color": "#0C2340",
          "pattern": {
           "shape": ""
          }
         },
         "name": "Timberwolves",
         "offsetgroup": "Timberwolves",
         "orientation": "v",
         "showlegend": false,
         "text": [
          "Timberwolves"
         ],
         "textposition": "inside",
         "x": [
          "Nehemiah"
         ],
         "xaxis": "x",
         "y": [
          5
         ],
         "yaxis": "y",
         "type": "bar",
         "texttemplate": "%{text}"
        },
        {
         "alignmentgroup": "True",
         "hovertemplate": "TeamName=%{text}<br>Owner=%{x}<br>Points=%{y}<extra></extra>",
         "legendgroup": "Thunder",
         "marker": {
          "color": "#007AC1",
          "pattern": {
           "shape": ""
          }
         },
         "name": "Thunder",
         "offsetgroup": "Thunder",
         "orientation": "v",
         "showlegend": false,
         "text": [
          "Thunder"
         ],
         "textposition": "inside",
         "x": [
          "Nehemiah"
         ],
         "xaxis": "x",
         "y": [
          5
         ],
         "yaxis": "y",
         "type": "bar",
         "texttemplate": "%{text}"
        },
        {
         "alignmentgroup": "True",
         "hovertemplate": "TeamName=%{text}<br>Owner=%{x}<br>Points=%{y}<extra></extra>",
         "legendgroup": "Raptors",
         "marker": {
          "color": "#CE1141",
          "pattern": {
           "shape": ""
          }
         },
         "name": "Raptors",
         "offsetgroup": "Raptors",
         "orientation": "v",
         "showlegend": false,
         "text": [
          "Raptors"
         ],
         "textposition": "inside",
         "x": [
          "Nehemiah"
         ],
         "xaxis": "x",
         "y": [
          4
         ],
         "yaxis": "y",
         "type": "bar",
         "texttemplate": "%{text}"
        },
        {
         "alignmentgroup": "True",
         "hovertemplate": "TeamName=%{text}<br>Owner=%{x}<br>Points=%{y}<extra></extra>",
         "legendgroup": "Warriors",
         "marker": {
          "color": "#1D428A",
          "pattern": {
           "shape": ""
          }
         },
         "name": "Warriors",
         "offsetgroup": "Warriors",
         "orientation": "v",
         "showlegend": false,
         "text": [
          "Warriors"
         ],
         "textposition": "inside",
         "x": [
          "Kent"
         ],
         "xaxis": "x",
         "y": [
          6
         ],
         "yaxis": "y",
         "type": "bar",
         "texttemplate": "%{text}"
        },
        {
         "alignmentgroup": "True",
         "hovertemplate": "TeamName=%{text}<br>Owner=%{x}<br>Points=%{y}<extra></extra>",
         "legendgroup": "Knicks",
         "marker": {
          "color": "#F58426",
          "pattern": {
           "shape": ""
          }
         },
         "name": "Knicks",
         "offsetgroup": "Knicks",
         "orientation": "v",
         "showlegend": false,
         "text": [
          "Knicks"
         ],
         "textposition": "inside",
         "x": [
          "Kent"
         ],
         "xaxis": "x",
         "y": [
          4
         ],
         "yaxis": "y",
         "type": "bar",
         "texttemplate": "%{text}"
        },
        {
         "alignmentgroup": "True",
         "hovertemplate": "TeamName=%{text}<br>Owner=%{x}<br>Points=%{y}<extra></extra>",
         "legendgroup": "Spurs",
         "marker": {
          "color": "#C4CED4",
          "pattern": {
           "shape": ""
          }
         },
         "name": "Spurs",
         "offsetgroup": "Spurs",
         "orientation": "v",
         "showlegend": false,
         "text": [
          "Spurs"
         ],
         "textposition": "inside",
         "x": [
          "Kent"
         ],
         "xaxis": "x",
         "y": [
          3
         ],
         "yaxis": "y",
         "type": "bar",
         "texttemplate": "%{text}"
        },
        {
         "alignmentgroup": "True",
         "hovertemplate": "TeamName=%{text}<br>Owner=%{x}<br>Points=%{y}<extra></extra>",
         "legendgroup": "Bulls",
         "marker": {
          "color": "#CE1141",
          "pattern": {
           "shape": ""
          }
         },
         "name": "Bulls",
         "offsetgroup": "Bulls",
         "orientation": "v",
         "showlegend": false,
         "text": [
          "Bulls"
         ],
         "textposition": "inside",
         "x": [
          "Kent"
         ],
         "xaxis": "x",
         "y": [
          3
         ],
         "yaxis": "y",
         "type": "bar",
         "texttemplate": "%{text}"
        },
        {
         "alignmentgroup": "True",
         "hovertemplate": "TeamName=%{text}<br>Owner=%{x}<br>Points=%{y}<extra></extra>",
         "legendgroup": "Pacers",
         "marker": {
          "color": "#002D62",
          "pattern": {
           "shape": ""
          }
         },
         "name": "Pacers",
         "offsetgroup": "Pacers",
         "orientation": "v",
         "showlegend": false,
         "text": [
          "Pacers"
         ],
         "textposition": "inside",
         "x": [
          "Richard"
         ],
         "xaxis": "x",
         "y": [
          5
         ],
         "yaxis": "y",
         "type": "bar",
         "texttemplate": "%{text}"
        },
        {
         "alignmentgroup": "True",
         "hovertemplate": "TeamName=%{text}<br>Owner=%{x}<br>Points=%{y}<extra></extra>",
         "legendgroup": "Suns",
         "marker": {
          "color": "#E56020",
          "pattern": {
           "shape": ""
          }
         },
         "name": "Suns",
         "offsetgroup": "Suns",
         "orientation": "v",
         "showlegend": false,
         "text": [
          "Suns"
         ],
         "textposition": "inside",
         "x": [
          "Richard"
         ],
         "xaxis": "x",
         "y": [
          4
         ],
         "yaxis": "y",
         "type": "bar",
         "texttemplate": "%{text}"
        },
        {
         "alignmentgroup": "True",
         "hovertemplate": "TeamName=%{text}<br>Owner=%{x}<br>Points=%{y}<extra></extra>",
         "legendgroup": "Heat",
         "marker": {
          "color": "#98002E",
          "pattern": {
           "shape": ""
          }
         },
         "name": "Heat",
         "offsetgroup": "Heat",
         "orientation": "v",
         "showlegend": false,
         "text": [
          "Heat"
         ],
         "textposition": "inside",
         "x": [
          "Richard"
         ],
         "xaxis": "x",
         "y": [
          4
         ],
         "yaxis": "y",
         "type": "bar",
         "texttemplate": "%{text}"
        },
        {
         "alignmentgroup": "True",
         "hovertemplate": "TeamName=%{text}<br>Owner=%{x}<br>Points=%{y}<extra></extra>",
         "legendgroup": "Hornets",
         "marker": {
          "color": "#00788C",
          "pattern": {
           "shape": ""
          }
         },
         "name": "Hornets",
         "offsetgroup": "Hornets",
         "orientation": "v",
         "showlegend": false,
         "text": [
          "Hornets"
         ],
         "textposition": "inside",
         "x": [
          "Richard"
         ],
         "xaxis": "x",
         "y": [
          2
         ],
         "yaxis": "y",
         "type": "bar",
         "texttemplate": "%{text}"
        },
        {
         "alignmentgroup": "True",
         "hovertemplate": "TeamName=%{text}<br>Owner=%{x}<br>Points=%{y}<extra></extra>",
         "legendgroup": "Celtics",
         "marker": {
          "color": "#007A33",
          "pattern": {
           "shape": ""
          }
         },
         "name": "Celtics",
         "offsetgroup": "Celtics",
         "orientation": "v",
         "showlegend": false,
         "text": [
          "Celtics"
         ],
         "textposition": "inside",
         "x": [
          "Eric"
         ],
         "xaxis": "x",
         "y": [
          5
         ],
         "yaxis": "y",
         "type": "bar",
         "texttemplate": "%{text}"
        },
        {
         "alignmentgroup": "True",
         "hovertemplate": "TeamName=%{text}<br>Owner=%{x}<br>Points=%{y}<extra></extra>",
         "legendgroup": "Hawks",
         "marker": {
          "color": "#E03A3E",
          "pattern": {
           "shape": ""
          }
         },
         "name": "Hawks",
         "offsetgroup": "Hawks",
         "orientation": "v",
         "showlegend": false,
         "text": [
          "Hawks"
         ],
         "textposition": "inside",
         "x": [
          "Eric"
         ],
         "xaxis": "x",
         "y": [
          4
         ],
         "yaxis": "y",
         "type": "bar",
         "texttemplate": "%{text}"
        },
        {
         "alignmentgroup": "True",
         "hovertemplate": "TeamName=%{text}<br>Owner=%{x}<br>Points=%{y}<extra></extra>",
         "legendgroup": "Kings",
         "marker": {
          "color": "#5A2D81",
          "pattern": {
           "shape": ""
          }
         },
         "name": "Kings",
         "offsetgroup": "Kings",
         "orientation": "v",
         "showlegend": false,
         "text": [
          "Kings"
         ],
         "textposition": "inside",
         "x": [
          "Eric"
         ],
         "xaxis": "x",
         "y": [
          3
         ],
         "yaxis": "y",
         "type": "bar",
         "texttemplate": "%{text}"
        },
        {
         "alignmentgroup": "True",
         "hovertemplate": "TeamName=%{text}<br>Owner=%{x}<br>Points=%{y}<extra></extra>",
         "legendgroup": "Trail Blazers",
         "marker": {
          "color": "#E03A3E",
          "pattern": {
           "shape": ""
          }
         },
         "name": "Trail Blazers",
         "offsetgroup": "Trail Blazers",
         "orientation": "v",
         "showlegend": false,
         "text": [
          "Trail Blazers"
         ],
         "textposition": "inside",
         "x": [
          "Eric"
         ],
         "xaxis": "x",
         "y": [
          3
         ],
         "yaxis": "y",
         "type": "bar",
         "texttemplate": "%{text}"
        },
        {
         "alignmentgroup": "True",
         "hovertemplate": "TeamName=%{text}<br>Owner=%{x}<br>Points=%{y}<extra></extra>",
         "legendgroup": "76ers",
         "marker": {
          "color": "#006BB6",
          "pattern": {
           "shape": ""
          }
         },
         "name": "76ers",
         "offsetgroup": "76ers",
         "orientation": "v",
         "showlegend": false,
         "text": [
          "76ers"
         ],
         "textposition": "inside",
         "x": [
          "Zach"
         ],
         "xaxis": "x",
         "y": [
          6
         ],
         "yaxis": "y",
         "type": "bar",
         "texttemplate": "%{text}"
        },
        {
         "alignmentgroup": "True",
         "hovertemplate": "TeamName=%{text}<br>Owner=%{x}<br>Points=%{y}<extra></extra>",
         "legendgroup": "Clippers",
         "marker": {
          "color": "#C8102E",
          "pattern": {
           "shape": ""
          }
         },
         "name": "Clippers",
         "offsetgroup": "Clippers",
         "orientation": "v",
         "showlegend": false,
         "text": [
          "Clippers"
         ],
         "textposition": "inside",
         "x": [
          "Zach"
         ],
         "xaxis": "x",
         "y": [
          3
         ],
         "yaxis": "y",
         "type": "bar",
         "texttemplate": "%{text}"
        },
        {
         "alignmentgroup": "True",
         "hovertemplate": "TeamName=%{text}<br>Owner=%{x}<br>Points=%{y}<extra></extra>",
         "legendgroup": "Jazz",
         "marker": {
          "color": "#002B5C",
          "pattern": {
           "shape": ""
          }
         },
         "name": "Jazz",
         "offsetgroup": "Jazz",
         "orientation": "v",
         "showlegend": false,
         "text": [
          "Jazz"
         ],
         "textposition": "inside",
         "x": [
          "Zach"
         ],
         "xaxis": "x",
         "y": [
          2
         ],
         "yaxis": "y",
         "type": "bar",
         "texttemplate": "%{text}"
        },
        {
         "alignmentgroup": "True",
         "hovertemplate": "TeamName=%{text}<br>Owner=%{x}<br>Points=%{y}<extra></extra>",
         "legendgroup": "Grizzlies",
         "marker": {
          "color": "#5D76A9",
          "pattern": {
           "shape": ""
          }
         },
         "name": "Grizzlies",
         "offsetgroup": "Grizzlies",
         "orientation": "v",
         "showlegend": false,
         "text": [
          "Grizzlies"
         ],
         "textposition": "inside",
         "x": [
          "Zach"
         ],
         "xaxis": "x",
         "y": [
          1
         ],
         "yaxis": "y",
         "type": "bar",
         "texttemplate": "%{text}"
        },
        {
         "alignmentgroup": "True",
         "hovertemplate": "TeamName=%{text}<br>Owner=%{x}<br>Points=%{y}<extra></extra>",
         "legendgroup": "Magic",
         "marker": {
          "color": "#0077C0",
          "pattern": {
           "shape": ""
          }
         },
         "name": "Magic",
         "offsetgroup": "Magic",
         "orientation": "v",
         "showlegend": false,
         "text": [
          "Magic"
         ],
         "textposition": "inside",
         "x": [
          "Cuente"
         ],
         "xaxis": "x",
         "y": [
          4
         ],
         "yaxis": "y",
         "type": "bar",
         "texttemplate": "%{text}"
        },
        {
         "alignmentgroup": "True",
         "hovertemplate": "TeamName=%{text}<br>Owner=%{x}<br>Points=%{y}<extra></extra>",
         "legendgroup": "Cavaliers",
         "marker": {
          "color": "#860038",
          "pattern": {
           "shape": ""
          }
         },
         "name": "Cavaliers",
         "offsetgroup": "Cavaliers",
         "orientation": "v",
         "showlegend": false,
         "text": [
          "Cavaliers"
         ],
         "textposition": "inside",
         "x": [
          "Cuente"
         ],
         "xaxis": "x",
         "y": [
          3
         ],
         "yaxis": "y",
         "type": "bar",
         "texttemplate": "%{text}"
        },
        {
         "alignmentgroup": "True",
         "hovertemplate": "TeamName=%{text}<br>Owner=%{x}<br>Points=%{y}<extra></extra>",
         "legendgroup": "Lakers",
         "marker": {
          "color": "#552583",
          "pattern": {
           "shape": ""
          }
         },
         "name": "Lakers",
         "offsetgroup": "Lakers",
         "orientation": "v",
         "showlegend": false,
         "text": [
          "Lakers"
         ],
         "textposition": "inside",
         "x": [
          "Cuente"
         ],
         "xaxis": "x",
         "y": [
          3
         ],
         "yaxis": "y",
         "type": "bar",
         "texttemplate": "%{text}"
        },
        {
         "alignmentgroup": "True",
         "hovertemplate": "TeamName=%{text}<br>Owner=%{x}<br>Points=%{y}<extra></extra>",
         "legendgroup": "Pistons",
         "marker": {
          "color": "#C8102E",
          "pattern": {
           "shape": ""
          }
         },
         "name": "Pistons",
         "offsetgroup": "Pistons",
         "orientation": "v",
         "showlegend": false,
         "text": [
          "Pistons"
         ],
         "textposition": "inside",
         "x": [
          "Cuente"
         ],
         "xaxis": "x",
         "y": [
          2
         ],
         "yaxis": "y",
         "type": "bar",
         "texttemplate": "%{text}"
        }
       ],
       "layout": {
        "template": {
         "data": {
          "histogram2dcontour": [
           {
            "type": "histogram2dcontour",
            "colorbar": {
             "outlinewidth": 0,
             "ticks": ""
            },
            "colorscale": [
             [
              0.0,
              "#0d0887"
             ],
             [
              0.1111111111111111,
              "#46039f"
             ],
             [
              0.2222222222222222,
              "#7201a8"
             ],
             [
              0.3333333333333333,
              "#9c179e"
             ],
             [
              0.4444444444444444,
              "#bd3786"
             ],
             [
              0.5555555555555556,
              "#d8576b"
             ],
             [
              0.6666666666666666,
              "#ed7953"
             ],
             [
              0.7777777777777778,
              "#fb9f3a"
             ],
             [
              0.8888888888888888,
              "#fdca26"
             ],
             [
              1.0,
              "#f0f921"
             ]
            ]
           }
          ],
          "choropleth": [
           {
            "type": "choropleth",
            "colorbar": {
             "outlinewidth": 0,
             "ticks": ""
            }
           }
          ],
          "histogram2d": [
           {
            "type": "histogram2d",
            "colorbar": {
             "outlinewidth": 0,
             "ticks": ""
            },
            "colorscale": [
             [
              0.0,
              "#0d0887"
             ],
             [
              0.1111111111111111,
              "#46039f"
             ],
             [
              0.2222222222222222,
              "#7201a8"
             ],
             [
              0.3333333333333333,
              "#9c179e"
             ],
             [
              0.4444444444444444,
              "#bd3786"
             ],
             [
              0.5555555555555556,
              "#d8576b"
             ],
             [
              0.6666666666666666,
              "#ed7953"
             ],
             [
              0.7777777777777778,
              "#fb9f3a"
             ],
             [
              0.8888888888888888,
              "#fdca26"
             ],
             [
              1.0,
              "#f0f921"
             ]
            ]
           }
          ],
          "heatmap": [
           {
            "type": "heatmap",
            "colorbar": {
             "outlinewidth": 0,
             "ticks": ""
            },
            "colorscale": [
             [
              0.0,
              "#0d0887"
             ],
             [
              0.1111111111111111,
              "#46039f"
             ],
             [
              0.2222222222222222,
              "#7201a8"
             ],
             [
              0.3333333333333333,
              "#9c179e"
             ],
             [
              0.4444444444444444,
              "#bd3786"
             ],
             [
              0.5555555555555556,
              "#d8576b"
             ],
             [
              0.6666666666666666,
              "#ed7953"
             ],
             [
              0.7777777777777778,
              "#fb9f3a"
             ],
             [
              0.8888888888888888,
              "#fdca26"
             ],
             [
              1.0,
              "#f0f921"
             ]
            ]
           }
          ],
          "heatmapgl": [
           {
            "type": "heatmapgl",
            "colorbar": {
             "outlinewidth": 0,
             "ticks": ""
            },
            "colorscale": [
             [
              0.0,
              "#0d0887"
             ],
             [
              0.1111111111111111,
              "#46039f"
             ],
             [
              0.2222222222222222,
              "#7201a8"
             ],
             [
              0.3333333333333333,
              "#9c179e"
             ],
             [
              0.4444444444444444,
              "#bd3786"
             ],
             [
              0.5555555555555556,
              "#d8576b"
             ],
             [
              0.6666666666666666,
              "#ed7953"
             ],
             [
              0.7777777777777778,
              "#fb9f3a"
             ],
             [
              0.8888888888888888,
              "#fdca26"
             ],
             [
              1.0,
              "#f0f921"
             ]
            ]
           }
          ],
          "contourcarpet": [
           {
            "type": "contourcarpet",
            "colorbar": {
             "outlinewidth": 0,
             "ticks": ""
            }
           }
          ],
          "contour": [
           {
            "type": "contour",
            "colorbar": {
             "outlinewidth": 0,
             "ticks": ""
            },
            "colorscale": [
             [
              0.0,
              "#0d0887"
             ],
             [
              0.1111111111111111,
              "#46039f"
             ],
             [
              0.2222222222222222,
              "#7201a8"
             ],
             [
              0.3333333333333333,
              "#9c179e"
             ],
             [
              0.4444444444444444,
              "#bd3786"
             ],
             [
              0.5555555555555556,
              "#d8576b"
             ],
             [
              0.6666666666666666,
              "#ed7953"
             ],
             [
              0.7777777777777778,
              "#fb9f3a"
             ],
             [
              0.8888888888888888,
              "#fdca26"
             ],
             [
              1.0,
              "#f0f921"
             ]
            ]
           }
          ],
          "surface": [
           {
            "type": "surface",
            "colorbar": {
             "outlinewidth": 0,
             "ticks": ""
            },
            "colorscale": [
             [
              0.0,
              "#0d0887"
             ],
             [
              0.1111111111111111,
              "#46039f"
             ],
             [
              0.2222222222222222,
              "#7201a8"
             ],
             [
              0.3333333333333333,
              "#9c179e"
             ],
             [
              0.4444444444444444,
              "#bd3786"
             ],
             [
              0.5555555555555556,
              "#d8576b"
             ],
             [
              0.6666666666666666,
              "#ed7953"
             ],
             [
              0.7777777777777778,
              "#fb9f3a"
             ],
             [
              0.8888888888888888,
              "#fdca26"
             ],
             [
              1.0,
              "#f0f921"
             ]
            ]
           }
          ],
          "mesh3d": [
           {
            "type": "mesh3d",
            "colorbar": {
             "outlinewidth": 0,
             "ticks": ""
            }
           }
          ],
          "scatter": [
           {
            "marker": {
             "line": {
              "color": "#283442"
             }
            },
            "type": "scatter"
           }
          ],
          "parcoords": [
           {
            "type": "parcoords",
            "line": {
             "colorbar": {
              "outlinewidth": 0,
              "ticks": ""
             }
            }
           }
          ],
          "scatterpolargl": [
           {
            "type": "scatterpolargl",
            "marker": {
             "colorbar": {
              "outlinewidth": 0,
              "ticks": ""
             }
            }
           }
          ],
          "bar": [
           {
            "error_x": {
             "color": "#f2f5fa"
            },
            "error_y": {
             "color": "#f2f5fa"
            },
            "marker": {
             "line": {
              "color": "rgb(17,17,17)",
              "width": 0.5
             },
             "pattern": {
              "fillmode": "overlay",
              "size": 10,
              "solidity": 0.2
             }
            },
            "type": "bar"
           }
          ],
          "scattergeo": [
           {
            "type": "scattergeo",
            "marker": {
             "colorbar": {
              "outlinewidth": 0,
              "ticks": ""
             }
            }
           }
          ],
          "scatterpolar": [
           {
            "type": "scatterpolar",
            "marker": {
             "colorbar": {
              "outlinewidth": 0,
              "ticks": ""
             }
            }
           }
          ],
          "histogram": [
           {
            "marker": {
             "pattern": {
              "fillmode": "overlay",
              "size": 10,
              "solidity": 0.2
             }
            },
            "type": "histogram"
           }
          ],
          "scattergl": [
           {
            "marker": {
             "line": {
              "color": "#283442"
             }
            },
            "type": "scattergl"
           }
          ],
          "scatter3d": [
           {
            "type": "scatter3d",
            "line": {
             "colorbar": {
              "outlinewidth": 0,
              "ticks": ""
             }
            },
            "marker": {
             "colorbar": {
              "outlinewidth": 0,
              "ticks": ""
             }
            }
           }
          ],
          "scattermapbox": [
           {
            "type": "scattermapbox",
            "marker": {
             "colorbar": {
              "outlinewidth": 0,
              "ticks": ""
             }
            }
           }
          ],
          "scatterternary": [
           {
            "type": "scatterternary",
            "marker": {
             "colorbar": {
              "outlinewidth": 0,
              "ticks": ""
             }
            }
           }
          ],
          "scattercarpet": [
           {
            "type": "scattercarpet",
            "marker": {
             "colorbar": {
              "outlinewidth": 0,
              "ticks": ""
             }
            }
           }
          ],
          "carpet": [
           {
            "aaxis": {
             "endlinecolor": "#A2B1C6",
             "gridcolor": "#506784",
             "linecolor": "#506784",
             "minorgridcolor": "#506784",
             "startlinecolor": "#A2B1C6"
            },
            "baxis": {
             "endlinecolor": "#A2B1C6",
             "gridcolor": "#506784",
             "linecolor": "#506784",
             "minorgridcolor": "#506784",
             "startlinecolor": "#A2B1C6"
            },
            "type": "carpet"
           }
          ],
          "table": [
           {
            "cells": {
             "fill": {
              "color": "#506784"
             },
             "line": {
              "color": "rgb(17,17,17)"
             }
            },
            "header": {
             "fill": {
              "color": "#2a3f5f"
             },
             "line": {
              "color": "rgb(17,17,17)"
             }
            },
            "type": "table"
           }
          ],
          "barpolar": [
           {
            "marker": {
             "line": {
              "color": "rgb(17,17,17)",
              "width": 0.5
             },
             "pattern": {
              "fillmode": "overlay",
              "size": 10,
              "solidity": 0.2
             }
            },
            "type": "barpolar"
           }
          ],
          "pie": [
           {
            "automargin": true,
            "type": "pie"
           }
          ]
         },
         "layout": {
          "autotypenumbers": "strict",
          "colorway": [
           "#636efa",
           "#EF553B",
           "#00cc96",
           "#ab63fa",
           "#FFA15A",
           "#19d3f3",
           "#FF6692",
           "#B6E880",
           "#FF97FF",
           "#FECB52"
          ],
          "font": {
           "color": "#f2f5fa"
          },
          "hovermode": "closest",
          "hoverlabel": {
           "align": "left"
          },
          "paper_bgcolor": "rgb(17,17,17)",
          "plot_bgcolor": "rgb(17,17,17)",
          "polar": {
           "bgcolor": "rgb(17,17,17)",
           "angularaxis": {
            "gridcolor": "#506784",
            "linecolor": "#506784",
            "ticks": ""
           },
           "radialaxis": {
            "gridcolor": "#506784",
            "linecolor": "#506784",
            "ticks": ""
           }
          },
          "ternary": {
           "bgcolor": "rgb(17,17,17)",
           "aaxis": {
            "gridcolor": "#506784",
            "linecolor": "#506784",
            "ticks": ""
           },
           "baxis": {
            "gridcolor": "#506784",
            "linecolor": "#506784",
            "ticks": ""
           },
           "caxis": {
            "gridcolor": "#506784",
            "linecolor": "#506784",
            "ticks": ""
           }
          },
          "coloraxis": {
           "colorbar": {
            "outlinewidth": 0,
            "ticks": ""
           }
          },
          "colorscale": {
           "sequential": [
            [
             0.0,
             "#0d0887"
            ],
            [
             0.1111111111111111,
             "#46039f"
            ],
            [
             0.2222222222222222,
             "#7201a8"
            ],
            [
             0.3333333333333333,
             "#9c179e"
            ],
            [
             0.4444444444444444,
             "#bd3786"
            ],
            [
             0.5555555555555556,
             "#d8576b"
            ],
            [
             0.6666666666666666,
             "#ed7953"
            ],
            [
             0.7777777777777778,
             "#fb9f3a"
            ],
            [
             0.8888888888888888,
             "#fdca26"
            ],
            [
             1.0,
             "#f0f921"
            ]
           ],
           "sequentialminus": [
            [
             0.0,
             "#0d0887"
            ],
            [
             0.1111111111111111,
             "#46039f"
            ],
            [
             0.2222222222222222,
             "#7201a8"
            ],
            [
             0.3333333333333333,
             "#9c179e"
            ],
            [
             0.4444444444444444,
             "#bd3786"
            ],
            [
             0.5555555555555556,
             "#d8576b"
            ],
            [
             0.6666666666666666,
             "#ed7953"
            ],
            [
             0.7777777777777778,
             "#fb9f3a"
            ],
            [
             0.8888888888888888,
             "#fdca26"
            ],
            [
             1.0,
             "#f0f921"
            ]
           ],
           "diverging": [
            [
             0,
             "#8e0152"
            ],
            [
             0.1,
             "#c51b7d"
            ],
            [
             0.2,
             "#de77ae"
            ],
            [
             0.3,
             "#f1b6da"
            ],
            [
             0.4,
             "#fde0ef"
            ],
            [
             0.5,
             "#f7f7f7"
            ],
            [
             0.6,
             "#e6f5d0"
            ],
            [
             0.7,
             "#b8e186"
            ],
            [
             0.8,
             "#7fbc41"
            ],
            [
             0.9,
             "#4d9221"
            ],
            [
             1,
             "#276419"
            ]
           ]
          },
          "xaxis": {
           "gridcolor": "#283442",
           "linecolor": "#506784",
           "ticks": "",
           "title": {
            "standoff": 15
           },
           "zerolinecolor": "#283442",
           "automargin": true,
           "zerolinewidth": 2
          },
          "yaxis": {
           "gridcolor": "#283442",
           "linecolor": "#506784",
           "ticks": "",
           "title": {
            "standoff": 15
           },
           "zerolinecolor": "#283442",
           "automargin": true,
           "zerolinewidth": 2
          },
          "scene": {
           "xaxis": {
            "backgroundcolor": "rgb(17,17,17)",
            "gridcolor": "#506784",
            "linecolor": "#506784",
            "showbackground": true,
            "ticks": "",
            "zerolinecolor": "#C8D4E3",
            "gridwidth": 2
           },
           "yaxis": {
            "backgroundcolor": "rgb(17,17,17)",
            "gridcolor": "#506784",
            "linecolor": "#506784",
            "showbackground": true,
            "ticks": "",
            "zerolinecolor": "#C8D4E3",
            "gridwidth": 2
           },
           "zaxis": {
            "backgroundcolor": "rgb(17,17,17)",
            "gridcolor": "#506784",
            "linecolor": "#506784",
            "showbackground": true,
            "ticks": "",
            "zerolinecolor": "#C8D4E3",
            "gridwidth": 2
           }
          },
          "shapedefaults": {
           "line": {
            "color": "#f2f5fa"
           }
          },
          "annotationdefaults": {
           "arrowcolor": "#f2f5fa",
           "arrowhead": 0,
           "arrowwidth": 1
          },
          "geo": {
           "bgcolor": "rgb(17,17,17)",
           "landcolor": "rgb(17,17,17)",
           "subunitcolor": "#506784",
           "showland": true,
           "showlakes": true,
           "lakecolor": "rgb(17,17,17)"
          },
          "title": {
           "x": 0.05
          },
          "updatemenudefaults": {
           "bgcolor": "#506784",
           "borderwidth": 0
          },
          "sliderdefaults": {
           "bgcolor": "#C8D4E3",
           "borderwidth": 1,
           "bordercolor": "rgb(17,17,17)",
           "tickwidth": 0
          },
          "mapbox": {
           "style": "dark"
          }
         }
        },
        "xaxis": {
         "anchor": "y",
         "domain": [
          0.0,
          1.0
         ],
         "title": {
          "text": "Owner"
         }
        },
        "yaxis": {
         "anchor": "x",
         "domain": [
          0.0,
          1.0
         ],
         "title": {
          "text": "Points"
         }
        },
        "legend": {
         "title": {
          "text": "TeamName"
         },
         "tracegroupgap": 0
        },
        "title": {
         "text": "Wins Pool Points"
        },
        "barmode": "stack",
        "annotations": [
         {
          "font": {
           "color": "white"
          },
          "showarrow": false,
          "text": "12",
          "x": "Cuente",
          "y": 12,
          "yshift": 10
         },
         {
          "font": {
           "color": "white"
          },
          "showarrow": false,
          "text": "22",
          "x": "Divya",
          "y": 22,
          "yshift": 10
         },
         {
          "font": {
           "color": "white"
          },
          "showarrow": false,
          "text": "15",
          "x": "Eric",
          "y": 15,
          "yshift": 10
         },
         {
          "font": {
           "color": "white"
          },
          "showarrow": false,
          "text": "16",
          "x": "Kent",
          "y": 16,
          "yshift": 10
         },
         {
          "font": {
           "color": "white"
          },
          "showarrow": false,
          "text": "19",
          "x": "Nehemiah",
          "y": 19,
          "yshift": 10
         },
         {
          "font": {
           "color": "white"
          },
          "showarrow": false,
          "text": "15",
          "x": "Richard",
          "y": 15,
          "yshift": 10
         },
         {
          "font": {
           "color": "white"
          },
          "showarrow": false,
          "text": "12",
          "x": "Zach",
          "y": 12,
          "yshift": 10
         }
        ]
       },
       "config": {
        "plotlyServerURL": "https://plot.ly"
       }
      },
      "text/html": "<div>                            <div id=\"68599ab7-0d3f-4457-b5fa-6ea3bcdcb3b8\" class=\"plotly-graph-div\" style=\"height:525px; width:100%;\"></div>            <script type=\"text/javascript\">                require([\"plotly\"], function(Plotly) {                    window.PLOTLYENV=window.PLOTLYENV || {};                                    if (document.getElementById(\"68599ab7-0d3f-4457-b5fa-6ea3bcdcb3b8\")) {                    Plotly.newPlot(                        \"68599ab7-0d3f-4457-b5fa-6ea3bcdcb3b8\",                        [{\"alignmentgroup\":\"True\",\"hovertemplate\":\"TeamName=%{text}\\u003cbr\\u003eOwner=%{x}\\u003cbr\\u003ePoints=%{y}\\u003cextra\\u003e\\u003c\\u002fextra\\u003e\",\"legendgroup\":\"Nuggets\",\"marker\":{\"color\":\"#0E2240\",\"pattern\":{\"shape\":\"\"}},\"name\":\"Nuggets\",\"offsetgroup\":\"Nuggets\",\"orientation\":\"v\",\"showlegend\":false,\"text\":[\"Nuggets\"],\"textposition\":\"inside\",\"x\":[\"Divya\"],\"xaxis\":\"x\",\"y\":[8],\"yaxis\":\"y\",\"type\":\"bar\",\"texttemplate\":\"%{text}\"},{\"alignmentgroup\":\"True\",\"hovertemplate\":\"TeamName=%{text}\\u003cbr\\u003eOwner=%{x}\\u003cbr\\u003ePoints=%{y}\\u003cextra\\u003e\\u003c\\u002fextra\\u003e\",\"legendgroup\":\"Mavericks\",\"marker\":{\"color\":\"#00538C\",\"pattern\":{\"shape\":\"\"}},\"name\":\"Mavericks\",\"offsetgroup\":\"Mavericks\",\"orientation\":\"v\",\"showlegend\":false,\"text\":[\"Mavericks\"],\"textposition\":\"inside\",\"x\":[\"Divya\"],\"xaxis\":\"x\",\"y\":[6],\"yaxis\":\"y\",\"type\":\"bar\",\"texttemplate\":\"%{text}\"},{\"alignmentgroup\":\"True\",\"hovertemplate\":\"TeamName=%{text}\\u003cbr\\u003eOwner=%{x}\\u003cbr\\u003ePoints=%{y}\\u003cextra\\u003e\\u003c\\u002fextra\\u003e\",\"legendgroup\":\"Nets\",\"marker\":{\"color\":\"#000000\",\"pattern\":{\"shape\":\"\"}},\"name\":\"Nets\",\"offsetgroup\":\"Nets\",\"orientation\":\"v\",\"showlegend\":false,\"text\":[\"Nets\"],\"textposition\":\"inside\",\"x\":[\"Divya\"],\"xaxis\":\"x\",\"y\":[4],\"yaxis\":\"y\",\"type\":\"bar\",\"texttemplate\":\"%{text}\"},{\"alignmentgroup\":\"True\",\"hovertemplate\":\"TeamName=%{text}\\u003cbr\\u003eOwner=%{x}\\u003cbr\\u003ePoints=%{y}\\u003cextra\\u003e\\u003c\\u002fextra\\u003e\",\"legendgroup\":\"Pelicans\",\"marker\":{\"color\":\"#0C2340\",\"pattern\":{\"shape\":\"\"}},\"name\":\"Pelicans\",\"offsetgroup\":\"Pelicans\",\"orientation\":\"v\",\"showlegend\":false,\"text\":[\"Pelicans\"],\"textposition\":\"inside\",\"x\":[\"Divya\"],\"xaxis\":\"x\",\"y\":[4],\"yaxis\":\"y\",\"type\":\"bar\",\"texttemplate\":\"%{text}\"},{\"alignmentgroup\":\"True\",\"hovertemplate\":\"TeamName=%{text}\\u003cbr\\u003eOwner=%{x}\\u003cbr\\u003ePoints=%{y}\\u003cextra\\u003e\\u003c\\u002fextra\\u003e\",\"legendgroup\":\"Bucks\",\"marker\":{\"color\":\"#00471B\",\"pattern\":{\"shape\":\"\"}},\"name\":\"Bucks\",\"offsetgroup\":\"Bucks\",\"orientation\":\"v\",\"showlegend\":false,\"text\":[\"Bucks\"],\"textposition\":\"inside\",\"x\":[\"Nehemiah\"],\"xaxis\":\"x\",\"y\":[5],\"yaxis\":\"y\",\"type\":\"bar\",\"texttemplate\":\"%{text}\"},{\"alignmentgroup\":\"True\",\"hovertemplate\":\"TeamName=%{text}\\u003cbr\\u003eOwner=%{x}\\u003cbr\\u003ePoints=%{y}\\u003cextra\\u003e\\u003c\\u002fextra\\u003e\",\"legendgroup\":\"Timberwolves\",\"marker\":{\"color\":\"#0C2340\",\"pattern\":{\"shape\":\"\"}},\"name\":\"Timberwolves\",\"offsetgroup\":\"Timberwolves\",\"orientation\":\"v\",\"showlegend\":false,\"text\":[\"Timberwolves\"],\"textposition\":\"inside\",\"x\":[\"Nehemiah\"],\"xaxis\":\"x\",\"y\":[5],\"yaxis\":\"y\",\"type\":\"bar\",\"texttemplate\":\"%{text}\"},{\"alignmentgroup\":\"True\",\"hovertemplate\":\"TeamName=%{text}\\u003cbr\\u003eOwner=%{x}\\u003cbr\\u003ePoints=%{y}\\u003cextra\\u003e\\u003c\\u002fextra\\u003e\",\"legendgroup\":\"Thunder\",\"marker\":{\"color\":\"#007AC1\",\"pattern\":{\"shape\":\"\"}},\"name\":\"Thunder\",\"offsetgroup\":\"Thunder\",\"orientation\":\"v\",\"showlegend\":false,\"text\":[\"Thunder\"],\"textposition\":\"inside\",\"x\":[\"Nehemiah\"],\"xaxis\":\"x\",\"y\":[5],\"yaxis\":\"y\",\"type\":\"bar\",\"texttemplate\":\"%{text}\"},{\"alignmentgroup\":\"True\",\"hovertemplate\":\"TeamName=%{text}\\u003cbr\\u003eOwner=%{x}\\u003cbr\\u003ePoints=%{y}\\u003cextra\\u003e\\u003c\\u002fextra\\u003e\",\"legendgroup\":\"Raptors\",\"marker\":{\"color\":\"#CE1141\",\"pattern\":{\"shape\":\"\"}},\"name\":\"Raptors\",\"offsetgroup\":\"Raptors\",\"orientation\":\"v\",\"showlegend\":false,\"text\":[\"Raptors\"],\"textposition\":\"inside\",\"x\":[\"Nehemiah\"],\"xaxis\":\"x\",\"y\":[4],\"yaxis\":\"y\",\"type\":\"bar\",\"texttemplate\":\"%{text}\"},{\"alignmentgroup\":\"True\",\"hovertemplate\":\"TeamName=%{text}\\u003cbr\\u003eOwner=%{x}\\u003cbr\\u003ePoints=%{y}\\u003cextra\\u003e\\u003c\\u002fextra\\u003e\",\"legendgroup\":\"Warriors\",\"marker\":{\"color\":\"#1D428A\",\"pattern\":{\"shape\":\"\"}},\"name\":\"Warriors\",\"offsetgroup\":\"Warriors\",\"orientation\":\"v\",\"showlegend\":false,\"text\":[\"Warriors\"],\"textposition\":\"inside\",\"x\":[\"Kent\"],\"xaxis\":\"x\",\"y\":[6],\"yaxis\":\"y\",\"type\":\"bar\",\"texttemplate\":\"%{text}\"},{\"alignmentgroup\":\"True\",\"hovertemplate\":\"TeamName=%{text}\\u003cbr\\u003eOwner=%{x}\\u003cbr\\u003ePoints=%{y}\\u003cextra\\u003e\\u003c\\u002fextra\\u003e\",\"legendgroup\":\"Knicks\",\"marker\":{\"color\":\"#F58426\",\"pattern\":{\"shape\":\"\"}},\"name\":\"Knicks\",\"offsetgroup\":\"Knicks\",\"orientation\":\"v\",\"showlegend\":false,\"text\":[\"Knicks\"],\"textposition\":\"inside\",\"x\":[\"Kent\"],\"xaxis\":\"x\",\"y\":[4],\"yaxis\":\"y\",\"type\":\"bar\",\"texttemplate\":\"%{text}\"},{\"alignmentgroup\":\"True\",\"hovertemplate\":\"TeamName=%{text}\\u003cbr\\u003eOwner=%{x}\\u003cbr\\u003ePoints=%{y}\\u003cextra\\u003e\\u003c\\u002fextra\\u003e\",\"legendgroup\":\"Spurs\",\"marker\":{\"color\":\"#C4CED4\",\"pattern\":{\"shape\":\"\"}},\"name\":\"Spurs\",\"offsetgroup\":\"Spurs\",\"orientation\":\"v\",\"showlegend\":false,\"text\":[\"Spurs\"],\"textposition\":\"inside\",\"x\":[\"Kent\"],\"xaxis\":\"x\",\"y\":[3],\"yaxis\":\"y\",\"type\":\"bar\",\"texttemplate\":\"%{text}\"},{\"alignmentgroup\":\"True\",\"hovertemplate\":\"TeamName=%{text}\\u003cbr\\u003eOwner=%{x}\\u003cbr\\u003ePoints=%{y}\\u003cextra\\u003e\\u003c\\u002fextra\\u003e\",\"legendgroup\":\"Bulls\",\"marker\":{\"color\":\"#CE1141\",\"pattern\":{\"shape\":\"\"}},\"name\":\"Bulls\",\"offsetgroup\":\"Bulls\",\"orientation\":\"v\",\"showlegend\":false,\"text\":[\"Bulls\"],\"textposition\":\"inside\",\"x\":[\"Kent\"],\"xaxis\":\"x\",\"y\":[3],\"yaxis\":\"y\",\"type\":\"bar\",\"texttemplate\":\"%{text}\"},{\"alignmentgroup\":\"True\",\"hovertemplate\":\"TeamName=%{text}\\u003cbr\\u003eOwner=%{x}\\u003cbr\\u003ePoints=%{y}\\u003cextra\\u003e\\u003c\\u002fextra\\u003e\",\"legendgroup\":\"Pacers\",\"marker\":{\"color\":\"#002D62\",\"pattern\":{\"shape\":\"\"}},\"name\":\"Pacers\",\"offsetgroup\":\"Pacers\",\"orientation\":\"v\",\"showlegend\":false,\"text\":[\"Pacers\"],\"textposition\":\"inside\",\"x\":[\"Richard\"],\"xaxis\":\"x\",\"y\":[5],\"yaxis\":\"y\",\"type\":\"bar\",\"texttemplate\":\"%{text}\"},{\"alignmentgroup\":\"True\",\"hovertemplate\":\"TeamName=%{text}\\u003cbr\\u003eOwner=%{x}\\u003cbr\\u003ePoints=%{y}\\u003cextra\\u003e\\u003c\\u002fextra\\u003e\",\"legendgroup\":\"Suns\",\"marker\":{\"color\":\"#E56020\",\"pattern\":{\"shape\":\"\"}},\"name\":\"Suns\",\"offsetgroup\":\"Suns\",\"orientation\":\"v\",\"showlegend\":false,\"text\":[\"Suns\"],\"textposition\":\"inside\",\"x\":[\"Richard\"],\"xaxis\":\"x\",\"y\":[4],\"yaxis\":\"y\",\"type\":\"bar\",\"texttemplate\":\"%{text}\"},{\"alignmentgroup\":\"True\",\"hovertemplate\":\"TeamName=%{text}\\u003cbr\\u003eOwner=%{x}\\u003cbr\\u003ePoints=%{y}\\u003cextra\\u003e\\u003c\\u002fextra\\u003e\",\"legendgroup\":\"Heat\",\"marker\":{\"color\":\"#98002E\",\"pattern\":{\"shape\":\"\"}},\"name\":\"Heat\",\"offsetgroup\":\"Heat\",\"orientation\":\"v\",\"showlegend\":false,\"text\":[\"Heat\"],\"textposition\":\"inside\",\"x\":[\"Richard\"],\"xaxis\":\"x\",\"y\":[4],\"yaxis\":\"y\",\"type\":\"bar\",\"texttemplate\":\"%{text}\"},{\"alignmentgroup\":\"True\",\"hovertemplate\":\"TeamName=%{text}\\u003cbr\\u003eOwner=%{x}\\u003cbr\\u003ePoints=%{y}\\u003cextra\\u003e\\u003c\\u002fextra\\u003e\",\"legendgroup\":\"Hornets\",\"marker\":{\"color\":\"#00788C\",\"pattern\":{\"shape\":\"\"}},\"name\":\"Hornets\",\"offsetgroup\":\"Hornets\",\"orientation\":\"v\",\"showlegend\":false,\"text\":[\"Hornets\"],\"textposition\":\"inside\",\"x\":[\"Richard\"],\"xaxis\":\"x\",\"y\":[2],\"yaxis\":\"y\",\"type\":\"bar\",\"texttemplate\":\"%{text}\"},{\"alignmentgroup\":\"True\",\"hovertemplate\":\"TeamName=%{text}\\u003cbr\\u003eOwner=%{x}\\u003cbr\\u003ePoints=%{y}\\u003cextra\\u003e\\u003c\\u002fextra\\u003e\",\"legendgroup\":\"Celtics\",\"marker\":{\"color\":\"#007A33\",\"pattern\":{\"shape\":\"\"}},\"name\":\"Celtics\",\"offsetgroup\":\"Celtics\",\"orientation\":\"v\",\"showlegend\":false,\"text\":[\"Celtics\"],\"textposition\":\"inside\",\"x\":[\"Eric\"],\"xaxis\":\"x\",\"y\":[5],\"yaxis\":\"y\",\"type\":\"bar\",\"texttemplate\":\"%{text}\"},{\"alignmentgroup\":\"True\",\"hovertemplate\":\"TeamName=%{text}\\u003cbr\\u003eOwner=%{x}\\u003cbr\\u003ePoints=%{y}\\u003cextra\\u003e\\u003c\\u002fextra\\u003e\",\"legendgroup\":\"Hawks\",\"marker\":{\"color\":\"#E03A3E\",\"pattern\":{\"shape\":\"\"}},\"name\":\"Hawks\",\"offsetgroup\":\"Hawks\",\"orientation\":\"v\",\"showlegend\":false,\"text\":[\"Hawks\"],\"textposition\":\"inside\",\"x\":[\"Eric\"],\"xaxis\":\"x\",\"y\":[4],\"yaxis\":\"y\",\"type\":\"bar\",\"texttemplate\":\"%{text}\"},{\"alignmentgroup\":\"True\",\"hovertemplate\":\"TeamName=%{text}\\u003cbr\\u003eOwner=%{x}\\u003cbr\\u003ePoints=%{y}\\u003cextra\\u003e\\u003c\\u002fextra\\u003e\",\"legendgroup\":\"Kings\",\"marker\":{\"color\":\"#5A2D81\",\"pattern\":{\"shape\":\"\"}},\"name\":\"Kings\",\"offsetgroup\":\"Kings\",\"orientation\":\"v\",\"showlegend\":false,\"text\":[\"Kings\"],\"textposition\":\"inside\",\"x\":[\"Eric\"],\"xaxis\":\"x\",\"y\":[3],\"yaxis\":\"y\",\"type\":\"bar\",\"texttemplate\":\"%{text}\"},{\"alignmentgroup\":\"True\",\"hovertemplate\":\"TeamName=%{text}\\u003cbr\\u003eOwner=%{x}\\u003cbr\\u003ePoints=%{y}\\u003cextra\\u003e\\u003c\\u002fextra\\u003e\",\"legendgroup\":\"Trail Blazers\",\"marker\":{\"color\":\"#E03A3E\",\"pattern\":{\"shape\":\"\"}},\"name\":\"Trail Blazers\",\"offsetgroup\":\"Trail Blazers\",\"orientation\":\"v\",\"showlegend\":false,\"text\":[\"Trail Blazers\"],\"textposition\":\"inside\",\"x\":[\"Eric\"],\"xaxis\":\"x\",\"y\":[3],\"yaxis\":\"y\",\"type\":\"bar\",\"texttemplate\":\"%{text}\"},{\"alignmentgroup\":\"True\",\"hovertemplate\":\"TeamName=%{text}\\u003cbr\\u003eOwner=%{x}\\u003cbr\\u003ePoints=%{y}\\u003cextra\\u003e\\u003c\\u002fextra\\u003e\",\"legendgroup\":\"76ers\",\"marker\":{\"color\":\"#006BB6\",\"pattern\":{\"shape\":\"\"}},\"name\":\"76ers\",\"offsetgroup\":\"76ers\",\"orientation\":\"v\",\"showlegend\":false,\"text\":[\"76ers\"],\"textposition\":\"inside\",\"x\":[\"Zach\"],\"xaxis\":\"x\",\"y\":[6],\"yaxis\":\"y\",\"type\":\"bar\",\"texttemplate\":\"%{text}\"},{\"alignmentgroup\":\"True\",\"hovertemplate\":\"TeamName=%{text}\\u003cbr\\u003eOwner=%{x}\\u003cbr\\u003ePoints=%{y}\\u003cextra\\u003e\\u003c\\u002fextra\\u003e\",\"legendgroup\":\"Clippers\",\"marker\":{\"color\":\"#C8102E\",\"pattern\":{\"shape\":\"\"}},\"name\":\"Clippers\",\"offsetgroup\":\"Clippers\",\"orientation\":\"v\",\"showlegend\":false,\"text\":[\"Clippers\"],\"textposition\":\"inside\",\"x\":[\"Zach\"],\"xaxis\":\"x\",\"y\":[3],\"yaxis\":\"y\",\"type\":\"bar\",\"texttemplate\":\"%{text}\"},{\"alignmentgroup\":\"True\",\"hovertemplate\":\"TeamName=%{text}\\u003cbr\\u003eOwner=%{x}\\u003cbr\\u003ePoints=%{y}\\u003cextra\\u003e\\u003c\\u002fextra\\u003e\",\"legendgroup\":\"Jazz\",\"marker\":{\"color\":\"#002B5C\",\"pattern\":{\"shape\":\"\"}},\"name\":\"Jazz\",\"offsetgroup\":\"Jazz\",\"orientation\":\"v\",\"showlegend\":false,\"text\":[\"Jazz\"],\"textposition\":\"inside\",\"x\":[\"Zach\"],\"xaxis\":\"x\",\"y\":[2],\"yaxis\":\"y\",\"type\":\"bar\",\"texttemplate\":\"%{text}\"},{\"alignmentgroup\":\"True\",\"hovertemplate\":\"TeamName=%{text}\\u003cbr\\u003eOwner=%{x}\\u003cbr\\u003ePoints=%{y}\\u003cextra\\u003e\\u003c\\u002fextra\\u003e\",\"legendgroup\":\"Grizzlies\",\"marker\":{\"color\":\"#5D76A9\",\"pattern\":{\"shape\":\"\"}},\"name\":\"Grizzlies\",\"offsetgroup\":\"Grizzlies\",\"orientation\":\"v\",\"showlegend\":false,\"text\":[\"Grizzlies\"],\"textposition\":\"inside\",\"x\":[\"Zach\"],\"xaxis\":\"x\",\"y\":[1],\"yaxis\":\"y\",\"type\":\"bar\",\"texttemplate\":\"%{text}\"},{\"alignmentgroup\":\"True\",\"hovertemplate\":\"TeamName=%{text}\\u003cbr\\u003eOwner=%{x}\\u003cbr\\u003ePoints=%{y}\\u003cextra\\u003e\\u003c\\u002fextra\\u003e\",\"legendgroup\":\"Magic\",\"marker\":{\"color\":\"#0077C0\",\"pattern\":{\"shape\":\"\"}},\"name\":\"Magic\",\"offsetgroup\":\"Magic\",\"orientation\":\"v\",\"showlegend\":false,\"text\":[\"Magic\"],\"textposition\":\"inside\",\"x\":[\"Cuente\"],\"xaxis\":\"x\",\"y\":[4],\"yaxis\":\"y\",\"type\":\"bar\",\"texttemplate\":\"%{text}\"},{\"alignmentgroup\":\"True\",\"hovertemplate\":\"TeamName=%{text}\\u003cbr\\u003eOwner=%{x}\\u003cbr\\u003ePoints=%{y}\\u003cextra\\u003e\\u003c\\u002fextra\\u003e\",\"legendgroup\":\"Cavaliers\",\"marker\":{\"color\":\"#860038\",\"pattern\":{\"shape\":\"\"}},\"name\":\"Cavaliers\",\"offsetgroup\":\"Cavaliers\",\"orientation\":\"v\",\"showlegend\":false,\"text\":[\"Cavaliers\"],\"textposition\":\"inside\",\"x\":[\"Cuente\"],\"xaxis\":\"x\",\"y\":[3],\"yaxis\":\"y\",\"type\":\"bar\",\"texttemplate\":\"%{text}\"},{\"alignmentgroup\":\"True\",\"hovertemplate\":\"TeamName=%{text}\\u003cbr\\u003eOwner=%{x}\\u003cbr\\u003ePoints=%{y}\\u003cextra\\u003e\\u003c\\u002fextra\\u003e\",\"legendgroup\":\"Lakers\",\"marker\":{\"color\":\"#552583\",\"pattern\":{\"shape\":\"\"}},\"name\":\"Lakers\",\"offsetgroup\":\"Lakers\",\"orientation\":\"v\",\"showlegend\":false,\"text\":[\"Lakers\"],\"textposition\":\"inside\",\"x\":[\"Cuente\"],\"xaxis\":\"x\",\"y\":[3],\"yaxis\":\"y\",\"type\":\"bar\",\"texttemplate\":\"%{text}\"},{\"alignmentgroup\":\"True\",\"hovertemplate\":\"TeamName=%{text}\\u003cbr\\u003eOwner=%{x}\\u003cbr\\u003ePoints=%{y}\\u003cextra\\u003e\\u003c\\u002fextra\\u003e\",\"legendgroup\":\"Pistons\",\"marker\":{\"color\":\"#C8102E\",\"pattern\":{\"shape\":\"\"}},\"name\":\"Pistons\",\"offsetgroup\":\"Pistons\",\"orientation\":\"v\",\"showlegend\":false,\"text\":[\"Pistons\"],\"textposition\":\"inside\",\"x\":[\"Cuente\"],\"xaxis\":\"x\",\"y\":[2],\"yaxis\":\"y\",\"type\":\"bar\",\"texttemplate\":\"%{text}\"}],                        {\"template\":{\"data\":{\"histogram2dcontour\":[{\"type\":\"histogram2dcontour\",\"colorbar\":{\"outlinewidth\":0,\"ticks\":\"\"},\"colorscale\":[[0.0,\"#0d0887\"],[0.1111111111111111,\"#46039f\"],[0.2222222222222222,\"#7201a8\"],[0.3333333333333333,\"#9c179e\"],[0.4444444444444444,\"#bd3786\"],[0.5555555555555556,\"#d8576b\"],[0.6666666666666666,\"#ed7953\"],[0.7777777777777778,\"#fb9f3a\"],[0.8888888888888888,\"#fdca26\"],[1.0,\"#f0f921\"]]}],\"choropleth\":[{\"type\":\"choropleth\",\"colorbar\":{\"outlinewidth\":0,\"ticks\":\"\"}}],\"histogram2d\":[{\"type\":\"histogram2d\",\"colorbar\":{\"outlinewidth\":0,\"ticks\":\"\"},\"colorscale\":[[0.0,\"#0d0887\"],[0.1111111111111111,\"#46039f\"],[0.2222222222222222,\"#7201a8\"],[0.3333333333333333,\"#9c179e\"],[0.4444444444444444,\"#bd3786\"],[0.5555555555555556,\"#d8576b\"],[0.6666666666666666,\"#ed7953\"],[0.7777777777777778,\"#fb9f3a\"],[0.8888888888888888,\"#fdca26\"],[1.0,\"#f0f921\"]]}],\"heatmap\":[{\"type\":\"heatmap\",\"colorbar\":{\"outlinewidth\":0,\"ticks\":\"\"},\"colorscale\":[[0.0,\"#0d0887\"],[0.1111111111111111,\"#46039f\"],[0.2222222222222222,\"#7201a8\"],[0.3333333333333333,\"#9c179e\"],[0.4444444444444444,\"#bd3786\"],[0.5555555555555556,\"#d8576b\"],[0.6666666666666666,\"#ed7953\"],[0.7777777777777778,\"#fb9f3a\"],[0.8888888888888888,\"#fdca26\"],[1.0,\"#f0f921\"]]}],\"heatmapgl\":[{\"type\":\"heatmapgl\",\"colorbar\":{\"outlinewidth\":0,\"ticks\":\"\"},\"colorscale\":[[0.0,\"#0d0887\"],[0.1111111111111111,\"#46039f\"],[0.2222222222222222,\"#7201a8\"],[0.3333333333333333,\"#9c179e\"],[0.4444444444444444,\"#bd3786\"],[0.5555555555555556,\"#d8576b\"],[0.6666666666666666,\"#ed7953\"],[0.7777777777777778,\"#fb9f3a\"],[0.8888888888888888,\"#fdca26\"],[1.0,\"#f0f921\"]]}],\"contourcarpet\":[{\"type\":\"contourcarpet\",\"colorbar\":{\"outlinewidth\":0,\"ticks\":\"\"}}],\"contour\":[{\"type\":\"contour\",\"colorbar\":{\"outlinewidth\":0,\"ticks\":\"\"},\"colorscale\":[[0.0,\"#0d0887\"],[0.1111111111111111,\"#46039f\"],[0.2222222222222222,\"#7201a8\"],[0.3333333333333333,\"#9c179e\"],[0.4444444444444444,\"#bd3786\"],[0.5555555555555556,\"#d8576b\"],[0.6666666666666666,\"#ed7953\"],[0.7777777777777778,\"#fb9f3a\"],[0.8888888888888888,\"#fdca26\"],[1.0,\"#f0f921\"]]}],\"surface\":[{\"type\":\"surface\",\"colorbar\":{\"outlinewidth\":0,\"ticks\":\"\"},\"colorscale\":[[0.0,\"#0d0887\"],[0.1111111111111111,\"#46039f\"],[0.2222222222222222,\"#7201a8\"],[0.3333333333333333,\"#9c179e\"],[0.4444444444444444,\"#bd3786\"],[0.5555555555555556,\"#d8576b\"],[0.6666666666666666,\"#ed7953\"],[0.7777777777777778,\"#fb9f3a\"],[0.8888888888888888,\"#fdca26\"],[1.0,\"#f0f921\"]]}],\"mesh3d\":[{\"type\":\"mesh3d\",\"colorbar\":{\"outlinewidth\":0,\"ticks\":\"\"}}],\"scatter\":[{\"marker\":{\"line\":{\"color\":\"#283442\"}},\"type\":\"scatter\"}],\"parcoords\":[{\"type\":\"parcoords\",\"line\":{\"colorbar\":{\"outlinewidth\":0,\"ticks\":\"\"}}}],\"scatterpolargl\":[{\"type\":\"scatterpolargl\",\"marker\":{\"colorbar\":{\"outlinewidth\":0,\"ticks\":\"\"}}}],\"bar\":[{\"error_x\":{\"color\":\"#f2f5fa\"},\"error_y\":{\"color\":\"#f2f5fa\"},\"marker\":{\"line\":{\"color\":\"rgb(17,17,17)\",\"width\":0.5},\"pattern\":{\"fillmode\":\"overlay\",\"size\":10,\"solidity\":0.2}},\"type\":\"bar\"}],\"scattergeo\":[{\"type\":\"scattergeo\",\"marker\":{\"colorbar\":{\"outlinewidth\":0,\"ticks\":\"\"}}}],\"scatterpolar\":[{\"type\":\"scatterpolar\",\"marker\":{\"colorbar\":{\"outlinewidth\":0,\"ticks\":\"\"}}}],\"histogram\":[{\"marker\":{\"pattern\":{\"fillmode\":\"overlay\",\"size\":10,\"solidity\":0.2}},\"type\":\"histogram\"}],\"scattergl\":[{\"marker\":{\"line\":{\"color\":\"#283442\"}},\"type\":\"scattergl\"}],\"scatter3d\":[{\"type\":\"scatter3d\",\"line\":{\"colorbar\":{\"outlinewidth\":0,\"ticks\":\"\"}},\"marker\":{\"colorbar\":{\"outlinewidth\":0,\"ticks\":\"\"}}}],\"scattermapbox\":[{\"type\":\"scattermapbox\",\"marker\":{\"colorbar\":{\"outlinewidth\":0,\"ticks\":\"\"}}}],\"scatterternary\":[{\"type\":\"scatterternary\",\"marker\":{\"colorbar\":{\"outlinewidth\":0,\"ticks\":\"\"}}}],\"scattercarpet\":[{\"type\":\"scattercarpet\",\"marker\":{\"colorbar\":{\"outlinewidth\":0,\"ticks\":\"\"}}}],\"carpet\":[{\"aaxis\":{\"endlinecolor\":\"#A2B1C6\",\"gridcolor\":\"#506784\",\"linecolor\":\"#506784\",\"minorgridcolor\":\"#506784\",\"startlinecolor\":\"#A2B1C6\"},\"baxis\":{\"endlinecolor\":\"#A2B1C6\",\"gridcolor\":\"#506784\",\"linecolor\":\"#506784\",\"minorgridcolor\":\"#506784\",\"startlinecolor\":\"#A2B1C6\"},\"type\":\"carpet\"}],\"table\":[{\"cells\":{\"fill\":{\"color\":\"#506784\"},\"line\":{\"color\":\"rgb(17,17,17)\"}},\"header\":{\"fill\":{\"color\":\"#2a3f5f\"},\"line\":{\"color\":\"rgb(17,17,17)\"}},\"type\":\"table\"}],\"barpolar\":[{\"marker\":{\"line\":{\"color\":\"rgb(17,17,17)\",\"width\":0.5},\"pattern\":{\"fillmode\":\"overlay\",\"size\":10,\"solidity\":0.2}},\"type\":\"barpolar\"}],\"pie\":[{\"automargin\":true,\"type\":\"pie\"}]},\"layout\":{\"autotypenumbers\":\"strict\",\"colorway\":[\"#636efa\",\"#EF553B\",\"#00cc96\",\"#ab63fa\",\"#FFA15A\",\"#19d3f3\",\"#FF6692\",\"#B6E880\",\"#FF97FF\",\"#FECB52\"],\"font\":{\"color\":\"#f2f5fa\"},\"hovermode\":\"closest\",\"hoverlabel\":{\"align\":\"left\"},\"paper_bgcolor\":\"rgb(17,17,17)\",\"plot_bgcolor\":\"rgb(17,17,17)\",\"polar\":{\"bgcolor\":\"rgb(17,17,17)\",\"angularaxis\":{\"gridcolor\":\"#506784\",\"linecolor\":\"#506784\",\"ticks\":\"\"},\"radialaxis\":{\"gridcolor\":\"#506784\",\"linecolor\":\"#506784\",\"ticks\":\"\"}},\"ternary\":{\"bgcolor\":\"rgb(17,17,17)\",\"aaxis\":{\"gridcolor\":\"#506784\",\"linecolor\":\"#506784\",\"ticks\":\"\"},\"baxis\":{\"gridcolor\":\"#506784\",\"linecolor\":\"#506784\",\"ticks\":\"\"},\"caxis\":{\"gridcolor\":\"#506784\",\"linecolor\":\"#506784\",\"ticks\":\"\"}},\"coloraxis\":{\"colorbar\":{\"outlinewidth\":0,\"ticks\":\"\"}},\"colorscale\":{\"sequential\":[[0.0,\"#0d0887\"],[0.1111111111111111,\"#46039f\"],[0.2222222222222222,\"#7201a8\"],[0.3333333333333333,\"#9c179e\"],[0.4444444444444444,\"#bd3786\"],[0.5555555555555556,\"#d8576b\"],[0.6666666666666666,\"#ed7953\"],[0.7777777777777778,\"#fb9f3a\"],[0.8888888888888888,\"#fdca26\"],[1.0,\"#f0f921\"]],\"sequentialminus\":[[0.0,\"#0d0887\"],[0.1111111111111111,\"#46039f\"],[0.2222222222222222,\"#7201a8\"],[0.3333333333333333,\"#9c179e\"],[0.4444444444444444,\"#bd3786\"],[0.5555555555555556,\"#d8576b\"],[0.6666666666666666,\"#ed7953\"],[0.7777777777777778,\"#fb9f3a\"],[0.8888888888888888,\"#fdca26\"],[1.0,\"#f0f921\"]],\"diverging\":[[0,\"#8e0152\"],[0.1,\"#c51b7d\"],[0.2,\"#de77ae\"],[0.3,\"#f1b6da\"],[0.4,\"#fde0ef\"],[0.5,\"#f7f7f7\"],[0.6,\"#e6f5d0\"],[0.7,\"#b8e186\"],[0.8,\"#7fbc41\"],[0.9,\"#4d9221\"],[1,\"#276419\"]]},\"xaxis\":{\"gridcolor\":\"#283442\",\"linecolor\":\"#506784\",\"ticks\":\"\",\"title\":{\"standoff\":15},\"zerolinecolor\":\"#283442\",\"automargin\":true,\"zerolinewidth\":2},\"yaxis\":{\"gridcolor\":\"#283442\",\"linecolor\":\"#506784\",\"ticks\":\"\",\"title\":{\"standoff\":15},\"zerolinecolor\":\"#283442\",\"automargin\":true,\"zerolinewidth\":2},\"scene\":{\"xaxis\":{\"backgroundcolor\":\"rgb(17,17,17)\",\"gridcolor\":\"#506784\",\"linecolor\":\"#506784\",\"showbackground\":true,\"ticks\":\"\",\"zerolinecolor\":\"#C8D4E3\",\"gridwidth\":2},\"yaxis\":{\"backgroundcolor\":\"rgb(17,17,17)\",\"gridcolor\":\"#506784\",\"linecolor\":\"#506784\",\"showbackground\":true,\"ticks\":\"\",\"zerolinecolor\":\"#C8D4E3\",\"gridwidth\":2},\"zaxis\":{\"backgroundcolor\":\"rgb(17,17,17)\",\"gridcolor\":\"#506784\",\"linecolor\":\"#506784\",\"showbackground\":true,\"ticks\":\"\",\"zerolinecolor\":\"#C8D4E3\",\"gridwidth\":2}},\"shapedefaults\":{\"line\":{\"color\":\"#f2f5fa\"}},\"annotationdefaults\":{\"arrowcolor\":\"#f2f5fa\",\"arrowhead\":0,\"arrowwidth\":1},\"geo\":{\"bgcolor\":\"rgb(17,17,17)\",\"landcolor\":\"rgb(17,17,17)\",\"subunitcolor\":\"#506784\",\"showland\":true,\"showlakes\":true,\"lakecolor\":\"rgb(17,17,17)\"},\"title\":{\"x\":0.05},\"updatemenudefaults\":{\"bgcolor\":\"#506784\",\"borderwidth\":0},\"sliderdefaults\":{\"bgcolor\":\"#C8D4E3\",\"borderwidth\":1,\"bordercolor\":\"rgb(17,17,17)\",\"tickwidth\":0},\"mapbox\":{\"style\":\"dark\"}}},\"xaxis\":{\"anchor\":\"y\",\"domain\":[0.0,1.0],\"title\":{\"text\":\"Owner\"}},\"yaxis\":{\"anchor\":\"x\",\"domain\":[0.0,1.0],\"title\":{\"text\":\"Points\"}},\"legend\":{\"title\":{\"text\":\"TeamName\"},\"tracegroupgap\":0},\"title\":{\"text\":\"Wins Pool Points\"},\"barmode\":\"stack\",\"annotations\":[{\"font\":{\"color\":\"white\"},\"showarrow\":false,\"text\":\"12\",\"x\":\"Cuente\",\"y\":12,\"yshift\":10},{\"font\":{\"color\":\"white\"},\"showarrow\":false,\"text\":\"22\",\"x\":\"Divya\",\"y\":22,\"yshift\":10},{\"font\":{\"color\":\"white\"},\"showarrow\":false,\"text\":\"15\",\"x\":\"Eric\",\"y\":15,\"yshift\":10},{\"font\":{\"color\":\"white\"},\"showarrow\":false,\"text\":\"16\",\"x\":\"Kent\",\"y\":16,\"yshift\":10},{\"font\":{\"color\":\"white\"},\"showarrow\":false,\"text\":\"19\",\"x\":\"Nehemiah\",\"y\":19,\"yshift\":10},{\"font\":{\"color\":\"white\"},\"showarrow\":false,\"text\":\"15\",\"x\":\"Richard\",\"y\":15,\"yshift\":10},{\"font\":{\"color\":\"white\"},\"showarrow\":false,\"text\":\"12\",\"x\":\"Zach\",\"y\":12,\"yshift\":10}]},                        {\"responsive\": true}                    ).then(function(){\n                            \nvar gd = document.getElementById('68599ab7-0d3f-4457-b5fa-6ea3bcdcb3b8');\nvar x = new MutationObserver(function (mutations, observer) {{\n        var display = window.getComputedStyle(gd).display;\n        if (!display || display === 'none') {{\n            console.log([gd, 'removed!']);\n            Plotly.purge(gd);\n            observer.disconnect();\n        }}\n}});\n\n// Listen for the removal of the full notebook cells\nvar notebookContainer = gd.closest('#notebook-container');\nif (notebookContainer) {{\n    x.observe(notebookContainer, {childList: true});\n}}\n\n// Listen for the clearing of the current output cell\nvar outputEl = gd.closest('.output');\nif (outputEl) {{\n    x.observe(outputEl, {childList: true});\n}}\n\n                        })                };                });            </script>        </div>"
     },
     "metadata": {},
     "output_type": "display_data"
    }
   ],
   "source": [
    "# Plot\n",
    "\n",
    "# Stacked bar chart using Plotly Express\n",
    "fig = px.bar(standings,\n",
    "             x='Owner',\n",
    "             y='Points',\n",
    "             color='TeamName',\n",
    "             color_discrete_map=color_map,\n",
    "             title='Wins Pool Points',\n",
    "             barmode='stack',\n",
    "             text='TeamName')\n",
    "\n",
    "fig.update_traces(texttemplate='%{text}', textposition='inside', showlegend=False)\n",
    "\n",
    "for i, owner in enumerate(total_points['Owner']):\n",
    "    total = total_points['TotalPoints'][i]\n",
    "    fig.add_annotation(x=owner, y=total, text=str(total),\n",
    "                       showarrow=False, font=dict(color='white'), yshift=10)\n",
    "\n",
    "fig.show()"
   ],
   "metadata": {
    "collapsed": false
   }
  },
  {
   "cell_type": "code",
   "execution_count": 96,
   "outputs": [
    {
     "name": "stderr",
     "output_type": "stream",
     "text": [
      "/var/folders/84/sb4dr76n06x6zw0p7llk4gpc0000gn/T/ipykernel_81939/3469735499.py:40: SettingWithCopyWarning:\n",
      "\n",
      "\n",
      "A value is trying to be set on a copy of a slice from a DataFrame.\n",
      "Try using .loc[row_indexer,col_indexer] = value instead\n",
      "\n",
      "See the caveats in the documentation: https://pandas.pydata.org/pandas-docs/stable/user_guide/indexing.html#returning-a-view-versus-a-copy\n",
      "\n",
      "/var/folders/84/sb4dr76n06x6zw0p7llk4gpc0000gn/T/ipykernel_81939/3469735499.py:43: SettingWithCopyWarning:\n",
      "\n",
      "\n",
      "A value is trying to be set on a copy of a slice from a DataFrame.\n",
      "Try using .loc[row_indexer,col_indexer] = value instead\n",
      "\n",
      "See the caveats in the documentation: https://pandas.pydata.org/pandas-docs/stable/user_guide/indexing.html#returning-a-view-versus-a-copy\n",
      "\n",
      "/var/folders/84/sb4dr76n06x6zw0p7llk4gpc0000gn/T/ipykernel_81939/3469735499.py:46: SettingWithCopyWarning:\n",
      "\n",
      "\n",
      "A value is trying to be set on a copy of a slice from a DataFrame.\n",
      "Try using .loc[row_indexer,col_indexer] = value instead\n",
      "\n",
      "See the caveats in the documentation: https://pandas.pydata.org/pandas-docs/stable/user_guide/indexing.html#returning-a-view-versus-a-copy\n",
      "\n"
     ]
    }
   ],
   "source": [
    "gamelog_full = endpoints.LeagueGameLog().get_data_frames()[0]\n",
    "gamelog = gamelog_full[['TEAM_ABBREVIATION', 'GAME_DATE', 'WL']]\n",
    "\n",
    "# Create Team Owner Dict for wins pool...again\n",
    "owner_map_2 = {\n",
    "    'ATL': 'Eric',\n",
    "    'BKN': 'Divya',\n",
    "    'BOS': 'Eric',\n",
    "    'CHA': 'Richard',\n",
    "    'CHI': 'Kent',\n",
    "    'CLE': 'Cuente',\n",
    "    'DAL': 'Divya',\n",
    "    'DEN': 'Divya',\n",
    "    'DET': 'Cuente',\n",
    "    'GSW': 'Kent',\n",
    "    'HOU': 'N/A',\n",
    "    'IND': 'Richard',\n",
    "    'LAC': 'Zach',\n",
    "    'LAL': 'Cuente',\n",
    "    'MEM': 'Zach',\n",
    "    'MIA': 'Richard',\n",
    "    'MIL': 'Nehemiah',\n",
    "    'MIN': 'Nehemiah',\n",
    "    'NOP': 'Divya',\n",
    "    'NYK': 'Kent',\n",
    "    'OKC': 'Nehemiah',\n",
    "    'ORL': 'Cuente',\n",
    "    'PHI': 'Zach',\n",
    "    'PHX': 'Richard',\n",
    "    'POR': 'Eric',\n",
    "    'SAC': 'Eric',\n",
    "    'SAS': 'Kent',\n",
    "    'TOR': 'Nehemiah',\n",
    "    'UTA': 'Zach',\n",
    "    'WAS': 'N/A'\n",
    "\n",
    "}\n",
    "\n",
    "# Assign Wins Pool Owners\n",
    "gamelog['Owner'] = gamelog['TEAM_ABBREVIATION'].map(owner_map_2)\n",
    "\n",
    "# Wins Boolean\n",
    "gamelog['WinMask'] = gamelog['WL'] == 'W'\n",
    "\n",
    "# Change to Dates\n",
    "gamelog['GAME_DATE'] = pd.to_datetime(gamelog['GAME_DATE'])\n",
    "\n",
    "# Drop Teams With No Owner\n",
    "gamelog = gamelog[gamelog['Owner'] != 'N/A']\n",
    "\n",
    "# Pivot to get cumulative points\n",
    "gamelog_pivot = gamelog.pivot_table(index='GAME_DATE', columns='Owner', values='WinMask', aggfunc='sum').cumsum().reset_index()\n",
    "\n",
    "# Fill NA\n",
    "gamelog_pivot.fillna(method='ffill', inplace=True)\n",
    "gamelog_pivot.fillna(0, inplace=True)"
   ],
   "metadata": {
    "collapsed": false
   }
  },
  {
   "cell_type": "code",
   "execution_count": 100,
   "outputs": [
    {
     "data": {
      "application/vnd.plotly.v1+json": {
       "data": [
        {
         "hovertemplate": "variable=Cuente<br>GAME_DATE=%{x}<br>value=%{y}<extra></extra>",
         "legendgroup": "Cuente",
         "line": {
          "color": "#636efa",
          "dash": "solid"
         },
         "marker": {
          "symbol": "circle"
         },
         "mode": "lines",
         "name": "Cuente",
         "orientation": "v",
         "showlegend": true,
         "x": [
          "2023-10-24T00:00:00",
          "2023-10-25T00:00:00",
          "2023-10-26T00:00:00",
          "2023-10-27T00:00:00",
          "2023-10-28T00:00:00",
          "2023-10-29T00:00:00",
          "2023-10-30T00:00:00",
          "2023-10-31T00:00:00",
          "2023-11-01T00:00:00",
          "2023-11-02T00:00:00",
          "2023-11-03T00:00:00",
          "2023-11-04T00:00:00",
          "2023-11-05T00:00:00",
          "2023-11-06T00:00:00",
          "2023-11-08T00:00:00"
         ],
         "xaxis": "x",
         "y": [
          0.0,
          2.0,
          3.0,
          5.0,
          6.0,
          6.0,
          7.0,
          7.0,
          9.0,
          10.0,
          10.0,
          11.0,
          12.0,
          12.0,
          12.0
         ],
         "yaxis": "y",
         "type": "scatter"
        },
        {
         "hovertemplate": "variable=Divya<br>GAME_DATE=%{x}<br>value=%{y}<extra></extra>",
         "legendgroup": "Divya",
         "line": {
          "color": "#EF553B",
          "dash": "solid"
         },
         "marker": {
          "symbol": "circle"
         },
         "mode": "lines",
         "name": "Divya",
         "orientation": "v",
         "showlegend": true,
         "x": [
          "2023-10-24T00:00:00",
          "2023-10-25T00:00:00",
          "2023-10-26T00:00:00",
          "2023-10-27T00:00:00",
          "2023-10-28T00:00:00",
          "2023-10-29T00:00:00",
          "2023-10-30T00:00:00",
          "2023-10-31T00:00:00",
          "2023-11-01T00:00:00",
          "2023-11-02T00:00:00",
          "2023-11-03T00:00:00",
          "2023-11-04T00:00:00",
          "2023-11-05T00:00:00",
          "2023-11-06T00:00:00",
          "2023-11-08T00:00:00"
         ],
         "xaxis": "x",
         "y": [
          1.0,
          3.0,
          3.0,
          5.0,
          6.0,
          7.0,
          10.0,
          10.0,
          13.0,
          14.0,
          16.0,
          17.0,
          18.0,
          20.0,
          22.0
         ],
         "yaxis": "y",
         "type": "scatter"
        },
        {
         "hovertemplate": "variable=Eric<br>GAME_DATE=%{x}<br>value=%{y}<extra></extra>",
         "legendgroup": "Eric",
         "line": {
          "color": "#00cc96",
          "dash": "solid"
         },
         "marker": {
          "symbol": "circle"
         },
         "mode": "lines",
         "name": "Eric",
         "orientation": "v",
         "showlegend": true,
         "x": [
          "2023-10-24T00:00:00",
          "2023-10-25T00:00:00",
          "2023-10-26T00:00:00",
          "2023-10-27T00:00:00",
          "2023-10-28T00:00:00",
          "2023-10-29T00:00:00",
          "2023-10-30T00:00:00",
          "2023-10-31T00:00:00",
          "2023-11-01T00:00:00",
          "2023-11-02T00:00:00",
          "2023-11-03T00:00:00",
          "2023-11-04T00:00:00",
          "2023-11-05T00:00:00",
          "2023-11-06T00:00:00",
          "2023-11-08T00:00:00"
         ],
         "xaxis": "x",
         "y": [
          0.0,
          2.0,
          2.0,
          3.0,
          3.0,
          5.0,
          8.0,
          8.0,
          11.0,
          11.0,
          12.0,
          14.0,
          14.0,
          14.0,
          15.0
         ],
         "yaxis": "y",
         "type": "scatter"
        },
        {
         "hovertemplate": "variable=Kent<br>GAME_DATE=%{x}<br>value=%{y}<extra></extra>",
         "legendgroup": "Kent",
         "line": {
          "color": "#ab63fa",
          "dash": "solid"
         },
         "marker": {
          "symbol": "circle"
         },
         "mode": "lines",
         "name": "Kent",
         "orientation": "v",
         "showlegend": true,
         "x": [
          "2023-10-24T00:00:00",
          "2023-10-25T00:00:00",
          "2023-10-26T00:00:00",
          "2023-10-27T00:00:00",
          "2023-10-28T00:00:00",
          "2023-10-29T00:00:00",
          "2023-10-30T00:00:00",
          "2023-10-31T00:00:00",
          "2023-11-01T00:00:00",
          "2023-11-02T00:00:00",
          "2023-11-03T00:00:00",
          "2023-11-04T00:00:00",
          "2023-11-05T00:00:00",
          "2023-11-06T00:00:00",
          "2023-11-08T00:00:00"
         ],
         "xaxis": "x",
         "y": [
          0.0,
          0.0,
          0.0,
          4.0,
          4.0,
          5.0,
          7.0,
          9.0,
          10.0,
          11.0,
          12.0,
          12.0,
          12.0,
          15.0,
          16.0
         ],
         "yaxis": "y",
         "type": "scatter"
        },
        {
         "hovertemplate": "variable=Nehemiah<br>GAME_DATE=%{x}<br>value=%{y}<extra></extra>",
         "legendgroup": "Nehemiah",
         "line": {
          "color": "#FFA15A",
          "dash": "solid"
         },
         "marker": {
          "symbol": "circle"
         },
         "mode": "lines",
         "name": "Nehemiah",
         "orientation": "v",
         "showlegend": true,
         "x": [
          "2023-10-24T00:00:00",
          "2023-10-25T00:00:00",
          "2023-10-26T00:00:00",
          "2023-10-27T00:00:00",
          "2023-10-28T00:00:00",
          "2023-10-29T00:00:00",
          "2023-10-30T00:00:00",
          "2023-10-31T00:00:00",
          "2023-11-01T00:00:00",
          "2023-11-02T00:00:00",
          "2023-11-03T00:00:00",
          "2023-11-04T00:00:00",
          "2023-11-05T00:00:00",
          "2023-11-06T00:00:00",
          "2023-11-08T00:00:00"
         ],
         "xaxis": "x",
         "y": [
          0.0,
          2.0,
          3.0,
          4.0,
          5.0,
          5.0,
          7.0,
          7.0,
          9.0,
          9.0,
          10.0,
          11.0,
          12.0,
          15.0,
          19.0
         ],
         "yaxis": "y",
         "type": "scatter"
        },
        {
         "hovertemplate": "variable=Richard<br>GAME_DATE=%{x}<br>value=%{y}<extra></extra>",
         "legendgroup": "Richard",
         "line": {
          "color": "#19d3f3",
          "dash": "solid"
         },
         "marker": {
          "symbol": "circle"
         },
         "mode": "lines",
         "name": "Richard",
         "orientation": "v",
         "showlegend": true,
         "x": [
          "2023-10-24T00:00:00",
          "2023-10-25T00:00:00",
          "2023-10-26T00:00:00",
          "2023-10-27T00:00:00",
          "2023-10-28T00:00:00",
          "2023-10-29T00:00:00",
          "2023-10-30T00:00:00",
          "2023-10-31T00:00:00",
          "2023-11-01T00:00:00",
          "2023-11-02T00:00:00",
          "2023-11-03T00:00:00",
          "2023-11-04T00:00:00",
          "2023-11-05T00:00:00",
          "2023-11-06T00:00:00",
          "2023-11-08T00:00:00"
         ],
         "xaxis": "x",
         "y": [
          1.0,
          4.0,
          4.0,
          4.0,
          6.0,
          6.0,
          6.0,
          6.0,
          6.0,
          6.0,
          8.0,
          9.0,
          10.0,
          12.0,
          15.0
         ],
         "yaxis": "y",
         "type": "scatter"
        },
        {
         "hovertemplate": "variable=Zach<br>GAME_DATE=%{x}<br>value=%{y}<extra></extra>",
         "legendgroup": "Zach",
         "line": {
          "color": "#FF6692",
          "dash": "solid"
         },
         "marker": {
          "symbol": "circle"
         },
         "mode": "lines",
         "name": "Zach",
         "orientation": "v",
         "showlegend": true,
         "x": [
          "2023-10-24T00:00:00",
          "2023-10-25T00:00:00",
          "2023-10-26T00:00:00",
          "2023-10-27T00:00:00",
          "2023-10-28T00:00:00",
          "2023-10-29T00:00:00",
          "2023-10-30T00:00:00",
          "2023-10-31T00:00:00",
          "2023-11-01T00:00:00",
          "2023-11-02T00:00:00",
          "2023-11-03T00:00:00",
          "2023-11-04T00:00:00",
          "2023-11-05T00:00:00",
          "2023-11-06T00:00:00",
          "2023-11-08T00:00:00"
         ],
         "xaxis": "x",
         "y": [
          0.0,
          1.0,
          1.0,
          2.0,
          3.0,
          5.0,
          5.0,
          6.0,
          7.0,
          8.0,
          8.0,
          9.0,
          10.0,
          11.0,
          12.0
         ],
         "yaxis": "y",
         "type": "scatter"
        }
       ],
       "layout": {
        "template": {
         "data": {
          "histogram2dcontour": [
           {
            "type": "histogram2dcontour",
            "colorbar": {
             "outlinewidth": 0,
             "ticks": ""
            },
            "colorscale": [
             [
              0.0,
              "#0d0887"
             ],
             [
              0.1111111111111111,
              "#46039f"
             ],
             [
              0.2222222222222222,
              "#7201a8"
             ],
             [
              0.3333333333333333,
              "#9c179e"
             ],
             [
              0.4444444444444444,
              "#bd3786"
             ],
             [
              0.5555555555555556,
              "#d8576b"
             ],
             [
              0.6666666666666666,
              "#ed7953"
             ],
             [
              0.7777777777777778,
              "#fb9f3a"
             ],
             [
              0.8888888888888888,
              "#fdca26"
             ],
             [
              1.0,
              "#f0f921"
             ]
            ]
           }
          ],
          "choropleth": [
           {
            "type": "choropleth",
            "colorbar": {
             "outlinewidth": 0,
             "ticks": ""
            }
           }
          ],
          "histogram2d": [
           {
            "type": "histogram2d",
            "colorbar": {
             "outlinewidth": 0,
             "ticks": ""
            },
            "colorscale": [
             [
              0.0,
              "#0d0887"
             ],
             [
              0.1111111111111111,
              "#46039f"
             ],
             [
              0.2222222222222222,
              "#7201a8"
             ],
             [
              0.3333333333333333,
              "#9c179e"
             ],
             [
              0.4444444444444444,
              "#bd3786"
             ],
             [
              0.5555555555555556,
              "#d8576b"
             ],
             [
              0.6666666666666666,
              "#ed7953"
             ],
             [
              0.7777777777777778,
              "#fb9f3a"
             ],
             [
              0.8888888888888888,
              "#fdca26"
             ],
             [
              1.0,
              "#f0f921"
             ]
            ]
           }
          ],
          "heatmap": [
           {
            "type": "heatmap",
            "colorbar": {
             "outlinewidth": 0,
             "ticks": ""
            },
            "colorscale": [
             [
              0.0,
              "#0d0887"
             ],
             [
              0.1111111111111111,
              "#46039f"
             ],
             [
              0.2222222222222222,
              "#7201a8"
             ],
             [
              0.3333333333333333,
              "#9c179e"
             ],
             [
              0.4444444444444444,
              "#bd3786"
             ],
             [
              0.5555555555555556,
              "#d8576b"
             ],
             [
              0.6666666666666666,
              "#ed7953"
             ],
             [
              0.7777777777777778,
              "#fb9f3a"
             ],
             [
              0.8888888888888888,
              "#fdca26"
             ],
             [
              1.0,
              "#f0f921"
             ]
            ]
           }
          ],
          "heatmapgl": [
           {
            "type": "heatmapgl",
            "colorbar": {
             "outlinewidth": 0,
             "ticks": ""
            },
            "colorscale": [
             [
              0.0,
              "#0d0887"
             ],
             [
              0.1111111111111111,
              "#46039f"
             ],
             [
              0.2222222222222222,
              "#7201a8"
             ],
             [
              0.3333333333333333,
              "#9c179e"
             ],
             [
              0.4444444444444444,
              "#bd3786"
             ],
             [
              0.5555555555555556,
              "#d8576b"
             ],
             [
              0.6666666666666666,
              "#ed7953"
             ],
             [
              0.7777777777777778,
              "#fb9f3a"
             ],
             [
              0.8888888888888888,
              "#fdca26"
             ],
             [
              1.0,
              "#f0f921"
             ]
            ]
           }
          ],
          "contourcarpet": [
           {
            "type": "contourcarpet",
            "colorbar": {
             "outlinewidth": 0,
             "ticks": ""
            }
           }
          ],
          "contour": [
           {
            "type": "contour",
            "colorbar": {
             "outlinewidth": 0,
             "ticks": ""
            },
            "colorscale": [
             [
              0.0,
              "#0d0887"
             ],
             [
              0.1111111111111111,
              "#46039f"
             ],
             [
              0.2222222222222222,
              "#7201a8"
             ],
             [
              0.3333333333333333,
              "#9c179e"
             ],
             [
              0.4444444444444444,
              "#bd3786"
             ],
             [
              0.5555555555555556,
              "#d8576b"
             ],
             [
              0.6666666666666666,
              "#ed7953"
             ],
             [
              0.7777777777777778,
              "#fb9f3a"
             ],
             [
              0.8888888888888888,
              "#fdca26"
             ],
             [
              1.0,
              "#f0f921"
             ]
            ]
           }
          ],
          "surface": [
           {
            "type": "surface",
            "colorbar": {
             "outlinewidth": 0,
             "ticks": ""
            },
            "colorscale": [
             [
              0.0,
              "#0d0887"
             ],
             [
              0.1111111111111111,
              "#46039f"
             ],
             [
              0.2222222222222222,
              "#7201a8"
             ],
             [
              0.3333333333333333,
              "#9c179e"
             ],
             [
              0.4444444444444444,
              "#bd3786"
             ],
             [
              0.5555555555555556,
              "#d8576b"
             ],
             [
              0.6666666666666666,
              "#ed7953"
             ],
             [
              0.7777777777777778,
              "#fb9f3a"
             ],
             [
              0.8888888888888888,
              "#fdca26"
             ],
             [
              1.0,
              "#f0f921"
             ]
            ]
           }
          ],
          "mesh3d": [
           {
            "type": "mesh3d",
            "colorbar": {
             "outlinewidth": 0,
             "ticks": ""
            }
           }
          ],
          "scatter": [
           {
            "marker": {
             "line": {
              "color": "#283442"
             }
            },
            "type": "scatter"
           }
          ],
          "parcoords": [
           {
            "type": "parcoords",
            "line": {
             "colorbar": {
              "outlinewidth": 0,
              "ticks": ""
             }
            }
           }
          ],
          "scatterpolargl": [
           {
            "type": "scatterpolargl",
            "marker": {
             "colorbar": {
              "outlinewidth": 0,
              "ticks": ""
             }
            }
           }
          ],
          "bar": [
           {
            "error_x": {
             "color": "#f2f5fa"
            },
            "error_y": {
             "color": "#f2f5fa"
            },
            "marker": {
             "line": {
              "color": "rgb(17,17,17)",
              "width": 0.5
             },
             "pattern": {
              "fillmode": "overlay",
              "size": 10,
              "solidity": 0.2
             }
            },
            "type": "bar"
           }
          ],
          "scattergeo": [
           {
            "type": "scattergeo",
            "marker": {
             "colorbar": {
              "outlinewidth": 0,
              "ticks": ""
             }
            }
           }
          ],
          "scatterpolar": [
           {
            "type": "scatterpolar",
            "marker": {
             "colorbar": {
              "outlinewidth": 0,
              "ticks": ""
             }
            }
           }
          ],
          "histogram": [
           {
            "marker": {
             "pattern": {
              "fillmode": "overlay",
              "size": 10,
              "solidity": 0.2
             }
            },
            "type": "histogram"
           }
          ],
          "scattergl": [
           {
            "marker": {
             "line": {
              "color": "#283442"
             }
            },
            "type": "scattergl"
           }
          ],
          "scatter3d": [
           {
            "type": "scatter3d",
            "line": {
             "colorbar": {
              "outlinewidth": 0,
              "ticks": ""
             }
            },
            "marker": {
             "colorbar": {
              "outlinewidth": 0,
              "ticks": ""
             }
            }
           }
          ],
          "scattermapbox": [
           {
            "type": "scattermapbox",
            "marker": {
             "colorbar": {
              "outlinewidth": 0,
              "ticks": ""
             }
            }
           }
          ],
          "scatterternary": [
           {
            "type": "scatterternary",
            "marker": {
             "colorbar": {
              "outlinewidth": 0,
              "ticks": ""
             }
            }
           }
          ],
          "scattercarpet": [
           {
            "type": "scattercarpet",
            "marker": {
             "colorbar": {
              "outlinewidth": 0,
              "ticks": ""
             }
            }
           }
          ],
          "carpet": [
           {
            "aaxis": {
             "endlinecolor": "#A2B1C6",
             "gridcolor": "#506784",
             "linecolor": "#506784",
             "minorgridcolor": "#506784",
             "startlinecolor": "#A2B1C6"
            },
            "baxis": {
             "endlinecolor": "#A2B1C6",
             "gridcolor": "#506784",
             "linecolor": "#506784",
             "minorgridcolor": "#506784",
             "startlinecolor": "#A2B1C6"
            },
            "type": "carpet"
           }
          ],
          "table": [
           {
            "cells": {
             "fill": {
              "color": "#506784"
             },
             "line": {
              "color": "rgb(17,17,17)"
             }
            },
            "header": {
             "fill": {
              "color": "#2a3f5f"
             },
             "line": {
              "color": "rgb(17,17,17)"
             }
            },
            "type": "table"
           }
          ],
          "barpolar": [
           {
            "marker": {
             "line": {
              "color": "rgb(17,17,17)",
              "width": 0.5
             },
             "pattern": {
              "fillmode": "overlay",
              "size": 10,
              "solidity": 0.2
             }
            },
            "type": "barpolar"
           }
          ],
          "pie": [
           {
            "automargin": true,
            "type": "pie"
           }
          ]
         },
         "layout": {
          "autotypenumbers": "strict",
          "colorway": [
           "#636efa",
           "#EF553B",
           "#00cc96",
           "#ab63fa",
           "#FFA15A",
           "#19d3f3",
           "#FF6692",
           "#B6E880",
           "#FF97FF",
           "#FECB52"
          ],
          "font": {
           "color": "#f2f5fa"
          },
          "hovermode": "closest",
          "hoverlabel": {
           "align": "left"
          },
          "paper_bgcolor": "rgb(17,17,17)",
          "plot_bgcolor": "rgb(17,17,17)",
          "polar": {
           "bgcolor": "rgb(17,17,17)",
           "angularaxis": {
            "gridcolor": "#506784",
            "linecolor": "#506784",
            "ticks": ""
           },
           "radialaxis": {
            "gridcolor": "#506784",
            "linecolor": "#506784",
            "ticks": ""
           }
          },
          "ternary": {
           "bgcolor": "rgb(17,17,17)",
           "aaxis": {
            "gridcolor": "#506784",
            "linecolor": "#506784",
            "ticks": ""
           },
           "baxis": {
            "gridcolor": "#506784",
            "linecolor": "#506784",
            "ticks": ""
           },
           "caxis": {
            "gridcolor": "#506784",
            "linecolor": "#506784",
            "ticks": ""
           }
          },
          "coloraxis": {
           "colorbar": {
            "outlinewidth": 0,
            "ticks": ""
           }
          },
          "colorscale": {
           "sequential": [
            [
             0.0,
             "#0d0887"
            ],
            [
             0.1111111111111111,
             "#46039f"
            ],
            [
             0.2222222222222222,
             "#7201a8"
            ],
            [
             0.3333333333333333,
             "#9c179e"
            ],
            [
             0.4444444444444444,
             "#bd3786"
            ],
            [
             0.5555555555555556,
             "#d8576b"
            ],
            [
             0.6666666666666666,
             "#ed7953"
            ],
            [
             0.7777777777777778,
             "#fb9f3a"
            ],
            [
             0.8888888888888888,
             "#fdca26"
            ],
            [
             1.0,
             "#f0f921"
            ]
           ],
           "sequentialminus": [
            [
             0.0,
             "#0d0887"
            ],
            [
             0.1111111111111111,
             "#46039f"
            ],
            [
             0.2222222222222222,
             "#7201a8"
            ],
            [
             0.3333333333333333,
             "#9c179e"
            ],
            [
             0.4444444444444444,
             "#bd3786"
            ],
            [
             0.5555555555555556,
             "#d8576b"
            ],
            [
             0.6666666666666666,
             "#ed7953"
            ],
            [
             0.7777777777777778,
             "#fb9f3a"
            ],
            [
             0.8888888888888888,
             "#fdca26"
            ],
            [
             1.0,
             "#f0f921"
            ]
           ],
           "diverging": [
            [
             0,
             "#8e0152"
            ],
            [
             0.1,
             "#c51b7d"
            ],
            [
             0.2,
             "#de77ae"
            ],
            [
             0.3,
             "#f1b6da"
            ],
            [
             0.4,
             "#fde0ef"
            ],
            [
             0.5,
             "#f7f7f7"
            ],
            [
             0.6,
             "#e6f5d0"
            ],
            [
             0.7,
             "#b8e186"
            ],
            [
             0.8,
             "#7fbc41"
            ],
            [
             0.9,
             "#4d9221"
            ],
            [
             1,
             "#276419"
            ]
           ]
          },
          "xaxis": {
           "gridcolor": "#283442",
           "linecolor": "#506784",
           "ticks": "",
           "title": {
            "standoff": 15
           },
           "zerolinecolor": "#283442",
           "automargin": true,
           "zerolinewidth": 2
          },
          "yaxis": {
           "gridcolor": "#283442",
           "linecolor": "#506784",
           "ticks": "",
           "title": {
            "standoff": 15
           },
           "zerolinecolor": "#283442",
           "automargin": true,
           "zerolinewidth": 2
          },
          "scene": {
           "xaxis": {
            "backgroundcolor": "rgb(17,17,17)",
            "gridcolor": "#506784",
            "linecolor": "#506784",
            "showbackground": true,
            "ticks": "",
            "zerolinecolor": "#C8D4E3",
            "gridwidth": 2
           },
           "yaxis": {
            "backgroundcolor": "rgb(17,17,17)",
            "gridcolor": "#506784",
            "linecolor": "#506784",
            "showbackground": true,
            "ticks": "",
            "zerolinecolor": "#C8D4E3",
            "gridwidth": 2
           },
           "zaxis": {
            "backgroundcolor": "rgb(17,17,17)",
            "gridcolor": "#506784",
            "linecolor": "#506784",
            "showbackground": true,
            "ticks": "",
            "zerolinecolor": "#C8D4E3",
            "gridwidth": 2
           }
          },
          "shapedefaults": {
           "line": {
            "color": "#f2f5fa"
           }
          },
          "annotationdefaults": {
           "arrowcolor": "#f2f5fa",
           "arrowhead": 0,
           "arrowwidth": 1
          },
          "geo": {
           "bgcolor": "rgb(17,17,17)",
           "landcolor": "rgb(17,17,17)",
           "subunitcolor": "#506784",
           "showland": true,
           "showlakes": true,
           "lakecolor": "rgb(17,17,17)"
          },
          "title": {
           "x": 0.05
          },
          "updatemenudefaults": {
           "bgcolor": "#506784",
           "borderwidth": 0
          },
          "sliderdefaults": {
           "bgcolor": "#C8D4E3",
           "borderwidth": 1,
           "bordercolor": "rgb(17,17,17)",
           "tickwidth": 0
          },
          "mapbox": {
           "style": "dark"
          }
         }
        },
        "xaxis": {
         "anchor": "y",
         "domain": [
          0.0,
          1.0
         ],
         "title": {
          "text": "Date"
         }
        },
        "yaxis": {
         "anchor": "x",
         "domain": [
          0.0,
          1.0
         ],
         "title": {
          "text": "Points"
         }
        },
        "legend": {
         "title": {
          "text": "Owner"
         },
         "tracegroupgap": 0
        },
        "title": {
         "text": "Wins Pool Points By Date"
        }
       },
       "config": {
        "plotlyServerURL": "https://plot.ly"
       }
      },
      "text/html": "<div>                            <div id=\"7ed01c93-1cd3-4d5e-8c9e-6654d48c9429\" class=\"plotly-graph-div\" style=\"height:525px; width:100%;\"></div>            <script type=\"text/javascript\">                require([\"plotly\"], function(Plotly) {                    window.PLOTLYENV=window.PLOTLYENV || {};                                    if (document.getElementById(\"7ed01c93-1cd3-4d5e-8c9e-6654d48c9429\")) {                    Plotly.newPlot(                        \"7ed01c93-1cd3-4d5e-8c9e-6654d48c9429\",                        [{\"hovertemplate\":\"variable=Cuente\\u003cbr\\u003eGAME_DATE=%{x}\\u003cbr\\u003evalue=%{y}\\u003cextra\\u003e\\u003c\\u002fextra\\u003e\",\"legendgroup\":\"Cuente\",\"line\":{\"color\":\"#636efa\",\"dash\":\"solid\"},\"marker\":{\"symbol\":\"circle\"},\"mode\":\"lines\",\"name\":\"Cuente\",\"orientation\":\"v\",\"showlegend\":true,\"x\":[\"2023-10-24T00:00:00\",\"2023-10-25T00:00:00\",\"2023-10-26T00:00:00\",\"2023-10-27T00:00:00\",\"2023-10-28T00:00:00\",\"2023-10-29T00:00:00\",\"2023-10-30T00:00:00\",\"2023-10-31T00:00:00\",\"2023-11-01T00:00:00\",\"2023-11-02T00:00:00\",\"2023-11-03T00:00:00\",\"2023-11-04T00:00:00\",\"2023-11-05T00:00:00\",\"2023-11-06T00:00:00\",\"2023-11-08T00:00:00\"],\"xaxis\":\"x\",\"y\":[0.0,2.0,3.0,5.0,6.0,6.0,7.0,7.0,9.0,10.0,10.0,11.0,12.0,12.0,12.0],\"yaxis\":\"y\",\"type\":\"scatter\"},{\"hovertemplate\":\"variable=Divya\\u003cbr\\u003eGAME_DATE=%{x}\\u003cbr\\u003evalue=%{y}\\u003cextra\\u003e\\u003c\\u002fextra\\u003e\",\"legendgroup\":\"Divya\",\"line\":{\"color\":\"#EF553B\",\"dash\":\"solid\"},\"marker\":{\"symbol\":\"circle\"},\"mode\":\"lines\",\"name\":\"Divya\",\"orientation\":\"v\",\"showlegend\":true,\"x\":[\"2023-10-24T00:00:00\",\"2023-10-25T00:00:00\",\"2023-10-26T00:00:00\",\"2023-10-27T00:00:00\",\"2023-10-28T00:00:00\",\"2023-10-29T00:00:00\",\"2023-10-30T00:00:00\",\"2023-10-31T00:00:00\",\"2023-11-01T00:00:00\",\"2023-11-02T00:00:00\",\"2023-11-03T00:00:00\",\"2023-11-04T00:00:00\",\"2023-11-05T00:00:00\",\"2023-11-06T00:00:00\",\"2023-11-08T00:00:00\"],\"xaxis\":\"x\",\"y\":[1.0,3.0,3.0,5.0,6.0,7.0,10.0,10.0,13.0,14.0,16.0,17.0,18.0,20.0,22.0],\"yaxis\":\"y\",\"type\":\"scatter\"},{\"hovertemplate\":\"variable=Eric\\u003cbr\\u003eGAME_DATE=%{x}\\u003cbr\\u003evalue=%{y}\\u003cextra\\u003e\\u003c\\u002fextra\\u003e\",\"legendgroup\":\"Eric\",\"line\":{\"color\":\"#00cc96\",\"dash\":\"solid\"},\"marker\":{\"symbol\":\"circle\"},\"mode\":\"lines\",\"name\":\"Eric\",\"orientation\":\"v\",\"showlegend\":true,\"x\":[\"2023-10-24T00:00:00\",\"2023-10-25T00:00:00\",\"2023-10-26T00:00:00\",\"2023-10-27T00:00:00\",\"2023-10-28T00:00:00\",\"2023-10-29T00:00:00\",\"2023-10-30T00:00:00\",\"2023-10-31T00:00:00\",\"2023-11-01T00:00:00\",\"2023-11-02T00:00:00\",\"2023-11-03T00:00:00\",\"2023-11-04T00:00:00\",\"2023-11-05T00:00:00\",\"2023-11-06T00:00:00\",\"2023-11-08T00:00:00\"],\"xaxis\":\"x\",\"y\":[0.0,2.0,2.0,3.0,3.0,5.0,8.0,8.0,11.0,11.0,12.0,14.0,14.0,14.0,15.0],\"yaxis\":\"y\",\"type\":\"scatter\"},{\"hovertemplate\":\"variable=Kent\\u003cbr\\u003eGAME_DATE=%{x}\\u003cbr\\u003evalue=%{y}\\u003cextra\\u003e\\u003c\\u002fextra\\u003e\",\"legendgroup\":\"Kent\",\"line\":{\"color\":\"#ab63fa\",\"dash\":\"solid\"},\"marker\":{\"symbol\":\"circle\"},\"mode\":\"lines\",\"name\":\"Kent\",\"orientation\":\"v\",\"showlegend\":true,\"x\":[\"2023-10-24T00:00:00\",\"2023-10-25T00:00:00\",\"2023-10-26T00:00:00\",\"2023-10-27T00:00:00\",\"2023-10-28T00:00:00\",\"2023-10-29T00:00:00\",\"2023-10-30T00:00:00\",\"2023-10-31T00:00:00\",\"2023-11-01T00:00:00\",\"2023-11-02T00:00:00\",\"2023-11-03T00:00:00\",\"2023-11-04T00:00:00\",\"2023-11-05T00:00:00\",\"2023-11-06T00:00:00\",\"2023-11-08T00:00:00\"],\"xaxis\":\"x\",\"y\":[0.0,0.0,0.0,4.0,4.0,5.0,7.0,9.0,10.0,11.0,12.0,12.0,12.0,15.0,16.0],\"yaxis\":\"y\",\"type\":\"scatter\"},{\"hovertemplate\":\"variable=Nehemiah\\u003cbr\\u003eGAME_DATE=%{x}\\u003cbr\\u003evalue=%{y}\\u003cextra\\u003e\\u003c\\u002fextra\\u003e\",\"legendgroup\":\"Nehemiah\",\"line\":{\"color\":\"#FFA15A\",\"dash\":\"solid\"},\"marker\":{\"symbol\":\"circle\"},\"mode\":\"lines\",\"name\":\"Nehemiah\",\"orientation\":\"v\",\"showlegend\":true,\"x\":[\"2023-10-24T00:00:00\",\"2023-10-25T00:00:00\",\"2023-10-26T00:00:00\",\"2023-10-27T00:00:00\",\"2023-10-28T00:00:00\",\"2023-10-29T00:00:00\",\"2023-10-30T00:00:00\",\"2023-10-31T00:00:00\",\"2023-11-01T00:00:00\",\"2023-11-02T00:00:00\",\"2023-11-03T00:00:00\",\"2023-11-04T00:00:00\",\"2023-11-05T00:00:00\",\"2023-11-06T00:00:00\",\"2023-11-08T00:00:00\"],\"xaxis\":\"x\",\"y\":[0.0,2.0,3.0,4.0,5.0,5.0,7.0,7.0,9.0,9.0,10.0,11.0,12.0,15.0,19.0],\"yaxis\":\"y\",\"type\":\"scatter\"},{\"hovertemplate\":\"variable=Richard\\u003cbr\\u003eGAME_DATE=%{x}\\u003cbr\\u003evalue=%{y}\\u003cextra\\u003e\\u003c\\u002fextra\\u003e\",\"legendgroup\":\"Richard\",\"line\":{\"color\":\"#19d3f3\",\"dash\":\"solid\"},\"marker\":{\"symbol\":\"circle\"},\"mode\":\"lines\",\"name\":\"Richard\",\"orientation\":\"v\",\"showlegend\":true,\"x\":[\"2023-10-24T00:00:00\",\"2023-10-25T00:00:00\",\"2023-10-26T00:00:00\",\"2023-10-27T00:00:00\",\"2023-10-28T00:00:00\",\"2023-10-29T00:00:00\",\"2023-10-30T00:00:00\",\"2023-10-31T00:00:00\",\"2023-11-01T00:00:00\",\"2023-11-02T00:00:00\",\"2023-11-03T00:00:00\",\"2023-11-04T00:00:00\",\"2023-11-05T00:00:00\",\"2023-11-06T00:00:00\",\"2023-11-08T00:00:00\"],\"xaxis\":\"x\",\"y\":[1.0,4.0,4.0,4.0,6.0,6.0,6.0,6.0,6.0,6.0,8.0,9.0,10.0,12.0,15.0],\"yaxis\":\"y\",\"type\":\"scatter\"},{\"hovertemplate\":\"variable=Zach\\u003cbr\\u003eGAME_DATE=%{x}\\u003cbr\\u003evalue=%{y}\\u003cextra\\u003e\\u003c\\u002fextra\\u003e\",\"legendgroup\":\"Zach\",\"line\":{\"color\":\"#FF6692\",\"dash\":\"solid\"},\"marker\":{\"symbol\":\"circle\"},\"mode\":\"lines\",\"name\":\"Zach\",\"orientation\":\"v\",\"showlegend\":true,\"x\":[\"2023-10-24T00:00:00\",\"2023-10-25T00:00:00\",\"2023-10-26T00:00:00\",\"2023-10-27T00:00:00\",\"2023-10-28T00:00:00\",\"2023-10-29T00:00:00\",\"2023-10-30T00:00:00\",\"2023-10-31T00:00:00\",\"2023-11-01T00:00:00\",\"2023-11-02T00:00:00\",\"2023-11-03T00:00:00\",\"2023-11-04T00:00:00\",\"2023-11-05T00:00:00\",\"2023-11-06T00:00:00\",\"2023-11-08T00:00:00\"],\"xaxis\":\"x\",\"y\":[0.0,1.0,1.0,2.0,3.0,5.0,5.0,6.0,7.0,8.0,8.0,9.0,10.0,11.0,12.0],\"yaxis\":\"y\",\"type\":\"scatter\"}],                        {\"template\":{\"data\":{\"histogram2dcontour\":[{\"type\":\"histogram2dcontour\",\"colorbar\":{\"outlinewidth\":0,\"ticks\":\"\"},\"colorscale\":[[0.0,\"#0d0887\"],[0.1111111111111111,\"#46039f\"],[0.2222222222222222,\"#7201a8\"],[0.3333333333333333,\"#9c179e\"],[0.4444444444444444,\"#bd3786\"],[0.5555555555555556,\"#d8576b\"],[0.6666666666666666,\"#ed7953\"],[0.7777777777777778,\"#fb9f3a\"],[0.8888888888888888,\"#fdca26\"],[1.0,\"#f0f921\"]]}],\"choropleth\":[{\"type\":\"choropleth\",\"colorbar\":{\"outlinewidth\":0,\"ticks\":\"\"}}],\"histogram2d\":[{\"type\":\"histogram2d\",\"colorbar\":{\"outlinewidth\":0,\"ticks\":\"\"},\"colorscale\":[[0.0,\"#0d0887\"],[0.1111111111111111,\"#46039f\"],[0.2222222222222222,\"#7201a8\"],[0.3333333333333333,\"#9c179e\"],[0.4444444444444444,\"#bd3786\"],[0.5555555555555556,\"#d8576b\"],[0.6666666666666666,\"#ed7953\"],[0.7777777777777778,\"#fb9f3a\"],[0.8888888888888888,\"#fdca26\"],[1.0,\"#f0f921\"]]}],\"heatmap\":[{\"type\":\"heatmap\",\"colorbar\":{\"outlinewidth\":0,\"ticks\":\"\"},\"colorscale\":[[0.0,\"#0d0887\"],[0.1111111111111111,\"#46039f\"],[0.2222222222222222,\"#7201a8\"],[0.3333333333333333,\"#9c179e\"],[0.4444444444444444,\"#bd3786\"],[0.5555555555555556,\"#d8576b\"],[0.6666666666666666,\"#ed7953\"],[0.7777777777777778,\"#fb9f3a\"],[0.8888888888888888,\"#fdca26\"],[1.0,\"#f0f921\"]]}],\"heatmapgl\":[{\"type\":\"heatmapgl\",\"colorbar\":{\"outlinewidth\":0,\"ticks\":\"\"},\"colorscale\":[[0.0,\"#0d0887\"],[0.1111111111111111,\"#46039f\"],[0.2222222222222222,\"#7201a8\"],[0.3333333333333333,\"#9c179e\"],[0.4444444444444444,\"#bd3786\"],[0.5555555555555556,\"#d8576b\"],[0.6666666666666666,\"#ed7953\"],[0.7777777777777778,\"#fb9f3a\"],[0.8888888888888888,\"#fdca26\"],[1.0,\"#f0f921\"]]}],\"contourcarpet\":[{\"type\":\"contourcarpet\",\"colorbar\":{\"outlinewidth\":0,\"ticks\":\"\"}}],\"contour\":[{\"type\":\"contour\",\"colorbar\":{\"outlinewidth\":0,\"ticks\":\"\"},\"colorscale\":[[0.0,\"#0d0887\"],[0.1111111111111111,\"#46039f\"],[0.2222222222222222,\"#7201a8\"],[0.3333333333333333,\"#9c179e\"],[0.4444444444444444,\"#bd3786\"],[0.5555555555555556,\"#d8576b\"],[0.6666666666666666,\"#ed7953\"],[0.7777777777777778,\"#fb9f3a\"],[0.8888888888888888,\"#fdca26\"],[1.0,\"#f0f921\"]]}],\"surface\":[{\"type\":\"surface\",\"colorbar\":{\"outlinewidth\":0,\"ticks\":\"\"},\"colorscale\":[[0.0,\"#0d0887\"],[0.1111111111111111,\"#46039f\"],[0.2222222222222222,\"#7201a8\"],[0.3333333333333333,\"#9c179e\"],[0.4444444444444444,\"#bd3786\"],[0.5555555555555556,\"#d8576b\"],[0.6666666666666666,\"#ed7953\"],[0.7777777777777778,\"#fb9f3a\"],[0.8888888888888888,\"#fdca26\"],[1.0,\"#f0f921\"]]}],\"mesh3d\":[{\"type\":\"mesh3d\",\"colorbar\":{\"outlinewidth\":0,\"ticks\":\"\"}}],\"scatter\":[{\"marker\":{\"line\":{\"color\":\"#283442\"}},\"type\":\"scatter\"}],\"parcoords\":[{\"type\":\"parcoords\",\"line\":{\"colorbar\":{\"outlinewidth\":0,\"ticks\":\"\"}}}],\"scatterpolargl\":[{\"type\":\"scatterpolargl\",\"marker\":{\"colorbar\":{\"outlinewidth\":0,\"ticks\":\"\"}}}],\"bar\":[{\"error_x\":{\"color\":\"#f2f5fa\"},\"error_y\":{\"color\":\"#f2f5fa\"},\"marker\":{\"line\":{\"color\":\"rgb(17,17,17)\",\"width\":0.5},\"pattern\":{\"fillmode\":\"overlay\",\"size\":10,\"solidity\":0.2}},\"type\":\"bar\"}],\"scattergeo\":[{\"type\":\"scattergeo\",\"marker\":{\"colorbar\":{\"outlinewidth\":0,\"ticks\":\"\"}}}],\"scatterpolar\":[{\"type\":\"scatterpolar\",\"marker\":{\"colorbar\":{\"outlinewidth\":0,\"ticks\":\"\"}}}],\"histogram\":[{\"marker\":{\"pattern\":{\"fillmode\":\"overlay\",\"size\":10,\"solidity\":0.2}},\"type\":\"histogram\"}],\"scattergl\":[{\"marker\":{\"line\":{\"color\":\"#283442\"}},\"type\":\"scattergl\"}],\"scatter3d\":[{\"type\":\"scatter3d\",\"line\":{\"colorbar\":{\"outlinewidth\":0,\"ticks\":\"\"}},\"marker\":{\"colorbar\":{\"outlinewidth\":0,\"ticks\":\"\"}}}],\"scattermapbox\":[{\"type\":\"scattermapbox\",\"marker\":{\"colorbar\":{\"outlinewidth\":0,\"ticks\":\"\"}}}],\"scatterternary\":[{\"type\":\"scatterternary\",\"marker\":{\"colorbar\":{\"outlinewidth\":0,\"ticks\":\"\"}}}],\"scattercarpet\":[{\"type\":\"scattercarpet\",\"marker\":{\"colorbar\":{\"outlinewidth\":0,\"ticks\":\"\"}}}],\"carpet\":[{\"aaxis\":{\"endlinecolor\":\"#A2B1C6\",\"gridcolor\":\"#506784\",\"linecolor\":\"#506784\",\"minorgridcolor\":\"#506784\",\"startlinecolor\":\"#A2B1C6\"},\"baxis\":{\"endlinecolor\":\"#A2B1C6\",\"gridcolor\":\"#506784\",\"linecolor\":\"#506784\",\"minorgridcolor\":\"#506784\",\"startlinecolor\":\"#A2B1C6\"},\"type\":\"carpet\"}],\"table\":[{\"cells\":{\"fill\":{\"color\":\"#506784\"},\"line\":{\"color\":\"rgb(17,17,17)\"}},\"header\":{\"fill\":{\"color\":\"#2a3f5f\"},\"line\":{\"color\":\"rgb(17,17,17)\"}},\"type\":\"table\"}],\"barpolar\":[{\"marker\":{\"line\":{\"color\":\"rgb(17,17,17)\",\"width\":0.5},\"pattern\":{\"fillmode\":\"overlay\",\"size\":10,\"solidity\":0.2}},\"type\":\"barpolar\"}],\"pie\":[{\"automargin\":true,\"type\":\"pie\"}]},\"layout\":{\"autotypenumbers\":\"strict\",\"colorway\":[\"#636efa\",\"#EF553B\",\"#00cc96\",\"#ab63fa\",\"#FFA15A\",\"#19d3f3\",\"#FF6692\",\"#B6E880\",\"#FF97FF\",\"#FECB52\"],\"font\":{\"color\":\"#f2f5fa\"},\"hovermode\":\"closest\",\"hoverlabel\":{\"align\":\"left\"},\"paper_bgcolor\":\"rgb(17,17,17)\",\"plot_bgcolor\":\"rgb(17,17,17)\",\"polar\":{\"bgcolor\":\"rgb(17,17,17)\",\"angularaxis\":{\"gridcolor\":\"#506784\",\"linecolor\":\"#506784\",\"ticks\":\"\"},\"radialaxis\":{\"gridcolor\":\"#506784\",\"linecolor\":\"#506784\",\"ticks\":\"\"}},\"ternary\":{\"bgcolor\":\"rgb(17,17,17)\",\"aaxis\":{\"gridcolor\":\"#506784\",\"linecolor\":\"#506784\",\"ticks\":\"\"},\"baxis\":{\"gridcolor\":\"#506784\",\"linecolor\":\"#506784\",\"ticks\":\"\"},\"caxis\":{\"gridcolor\":\"#506784\",\"linecolor\":\"#506784\",\"ticks\":\"\"}},\"coloraxis\":{\"colorbar\":{\"outlinewidth\":0,\"ticks\":\"\"}},\"colorscale\":{\"sequential\":[[0.0,\"#0d0887\"],[0.1111111111111111,\"#46039f\"],[0.2222222222222222,\"#7201a8\"],[0.3333333333333333,\"#9c179e\"],[0.4444444444444444,\"#bd3786\"],[0.5555555555555556,\"#d8576b\"],[0.6666666666666666,\"#ed7953\"],[0.7777777777777778,\"#fb9f3a\"],[0.8888888888888888,\"#fdca26\"],[1.0,\"#f0f921\"]],\"sequentialminus\":[[0.0,\"#0d0887\"],[0.1111111111111111,\"#46039f\"],[0.2222222222222222,\"#7201a8\"],[0.3333333333333333,\"#9c179e\"],[0.4444444444444444,\"#bd3786\"],[0.5555555555555556,\"#d8576b\"],[0.6666666666666666,\"#ed7953\"],[0.7777777777777778,\"#fb9f3a\"],[0.8888888888888888,\"#fdca26\"],[1.0,\"#f0f921\"]],\"diverging\":[[0,\"#8e0152\"],[0.1,\"#c51b7d\"],[0.2,\"#de77ae\"],[0.3,\"#f1b6da\"],[0.4,\"#fde0ef\"],[0.5,\"#f7f7f7\"],[0.6,\"#e6f5d0\"],[0.7,\"#b8e186\"],[0.8,\"#7fbc41\"],[0.9,\"#4d9221\"],[1,\"#276419\"]]},\"xaxis\":{\"gridcolor\":\"#283442\",\"linecolor\":\"#506784\",\"ticks\":\"\",\"title\":{\"standoff\":15},\"zerolinecolor\":\"#283442\",\"automargin\":true,\"zerolinewidth\":2},\"yaxis\":{\"gridcolor\":\"#283442\",\"linecolor\":\"#506784\",\"ticks\":\"\",\"title\":{\"standoff\":15},\"zerolinecolor\":\"#283442\",\"automargin\":true,\"zerolinewidth\":2},\"scene\":{\"xaxis\":{\"backgroundcolor\":\"rgb(17,17,17)\",\"gridcolor\":\"#506784\",\"linecolor\":\"#506784\",\"showbackground\":true,\"ticks\":\"\",\"zerolinecolor\":\"#C8D4E3\",\"gridwidth\":2},\"yaxis\":{\"backgroundcolor\":\"rgb(17,17,17)\",\"gridcolor\":\"#506784\",\"linecolor\":\"#506784\",\"showbackground\":true,\"ticks\":\"\",\"zerolinecolor\":\"#C8D4E3\",\"gridwidth\":2},\"zaxis\":{\"backgroundcolor\":\"rgb(17,17,17)\",\"gridcolor\":\"#506784\",\"linecolor\":\"#506784\",\"showbackground\":true,\"ticks\":\"\",\"zerolinecolor\":\"#C8D4E3\",\"gridwidth\":2}},\"shapedefaults\":{\"line\":{\"color\":\"#f2f5fa\"}},\"annotationdefaults\":{\"arrowcolor\":\"#f2f5fa\",\"arrowhead\":0,\"arrowwidth\":1},\"geo\":{\"bgcolor\":\"rgb(17,17,17)\",\"landcolor\":\"rgb(17,17,17)\",\"subunitcolor\":\"#506784\",\"showland\":true,\"showlakes\":true,\"lakecolor\":\"rgb(17,17,17)\"},\"title\":{\"x\":0.05},\"updatemenudefaults\":{\"bgcolor\":\"#506784\",\"borderwidth\":0},\"sliderdefaults\":{\"bgcolor\":\"#C8D4E3\",\"borderwidth\":1,\"bordercolor\":\"rgb(17,17,17)\",\"tickwidth\":0},\"mapbox\":{\"style\":\"dark\"}}},\"xaxis\":{\"anchor\":\"y\",\"domain\":[0.0,1.0],\"title\":{\"text\":\"Date\"}},\"yaxis\":{\"anchor\":\"x\",\"domain\":[0.0,1.0],\"title\":{\"text\":\"Points\"}},\"legend\":{\"title\":{\"text\":\"Owner\"},\"tracegroupgap\":0},\"title\":{\"text\":\"Wins Pool Points By Date\"}},                        {\"responsive\": true}                    ).then(function(){\n                            \nvar gd = document.getElementById('7ed01c93-1cd3-4d5e-8c9e-6654d48c9429');\nvar x = new MutationObserver(function (mutations, observer) {{\n        var display = window.getComputedStyle(gd).display;\n        if (!display || display === 'none') {{\n            console.log([gd, 'removed!']);\n            Plotly.purge(gd);\n            observer.disconnect();\n        }}\n}});\n\n// Listen for the removal of the full notebook cells\nvar notebookContainer = gd.closest('#notebook-container');\nif (notebookContainer) {{\n    x.observe(notebookContainer, {childList: true});\n}}\n\n// Listen for the clearing of the current output cell\nvar outputEl = gd.closest('.output');\nif (outputEl) {{\n    x.observe(outputEl, {childList: true});\n}}\n\n                        })                };                });            </script>        </div>"
     },
     "metadata": {},
     "output_type": "display_data"
    }
   ],
   "source": [
    "# Season Long Graph\n",
    "fig = px.line(gamelog_pivot,\n",
    "             x='GAME_DATE',\n",
    "             y=gamelog_pivot.columns[1:],\n",
    "             title='Wins Pool Points By Date')\n",
    "\n",
    "fig.update_layout(xaxis_title='Date',\n",
    "                  yaxis_title='Points',\n",
    "                  legend={'title': {'text': 'Owner'}})\n",
    "\n",
    "fig.show()"
   ],
   "metadata": {
    "collapsed": false
   }
  },
  {
   "cell_type": "code",
   "execution_count": null,
   "outputs": [],
   "source": [],
   "metadata": {
    "collapsed": false
   }
  }
 ],
 "metadata": {
  "kernelspec": {
   "display_name": "Python 3",
   "language": "python",
   "name": "python3"
  },
  "language_info": {
   "codemirror_mode": {
    "name": "ipython",
    "version": 2
   },
   "file_extension": ".py",
   "mimetype": "text/x-python",
   "name": "python",
   "nbconvert_exporter": "python",
   "pygments_lexer": "ipython2",
   "version": "2.7.6"
  }
 },
 "nbformat": 4,
 "nbformat_minor": 0
}
